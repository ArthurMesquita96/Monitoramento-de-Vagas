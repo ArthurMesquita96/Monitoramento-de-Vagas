{
 "cells": [
  {
   "cell_type": "code",
   "execution_count": 26,
   "metadata": {},
   "outputs": [],
   "source": [
    "import re\n",
    "import pandas as pd\n",
    "\n",
    "from datetime import datetime, timedelta"
   ]
  },
  {
   "cell_type": "code",
   "execution_count": 27,
   "metadata": {},
   "outputs": [
    {
     "data": {
      "text/html": [
       "<div>\n",
       "<style scoped>\n",
       "    .dataframe tbody tr th:only-of-type {\n",
       "        vertical-align: middle;\n",
       "    }\n",
       "\n",
       "    .dataframe tbody tr th {\n",
       "        vertical-align: top;\n",
       "    }\n",
       "\n",
       "    .dataframe thead th {\n",
       "        text-align: right;\n",
       "    }\n",
       "</style>\n",
       "<table border=\"1\" class=\"dataframe\">\n",
       "  <thead>\n",
       "    <tr style=\"text-align: right;\">\n",
       "      <th></th>\n",
       "      <th>site_da_vaga</th>\n",
       "      <th>link_site</th>\n",
       "      <th>link_origem</th>\n",
       "      <th>data_publicacao</th>\n",
       "      <th>data_expiracao</th>\n",
       "      <th>data_coleta</th>\n",
       "      <th>posicao</th>\n",
       "      <th>senioridade</th>\n",
       "      <th>titulo_vaga</th>\n",
       "      <th>nome_empresa</th>\n",
       "      <th>cidade</th>\n",
       "      <th>estado</th>\n",
       "      <th>modalidade</th>\n",
       "      <th>contrato</th>\n",
       "      <th>regime</th>\n",
       "      <th>pcd</th>\n",
       "      <th>beneficios</th>\n",
       "      <th>codigo_vaga</th>\n",
       "      <th>descricao</th>\n",
       "    </tr>\n",
       "  </thead>\n",
       "  <tbody>\n",
       "    <tr>\n",
       "      <th>0</th>\n",
       "      <td>Vagas.com</td>\n",
       "      <td>https://www.vagas.com.br/vagas/v2597008/analis...</td>\n",
       "      <td>NaN</td>\n",
       "      <td>Publicada em 29/12/2023</td>\n",
       "      <td>NaN</td>\n",
       "      <td>2024-02-07</td>\n",
       "      <td>Analista de Dados</td>\n",
       "      <td>Pleno</td>\n",
       "      <td>Analista de Dados</td>\n",
       "      <td>Tangará</td>\n",
       "      <td>NaN</td>\n",
       "      <td>Minas Gerais</td>\n",
       "      <td>NaN</td>\n",
       "      <td>NaN</td>\n",
       "      <td>Regime CLT</td>\n",
       "      <td>NaN</td>\n",
       "      <td>['Assistência médica', 'Assistência odontológi...</td>\n",
       "      <td>v2597008</td>\n",
       "      <td>Descrição\\nDescrição: Atividades:\\nRealizar at...</td>\n",
       "    </tr>\n",
       "    <tr>\n",
       "      <th>1</th>\n",
       "      <td>Vagas.com</td>\n",
       "      <td>https://www.vagas.com.br/vagas/v2590354/analis...</td>\n",
       "      <td>NaN</td>\n",
       "      <td>Publicada em 07/12/2023</td>\n",
       "      <td>2024-02-29</td>\n",
       "      <td>2024-02-07</td>\n",
       "      <td>Analista de Dados</td>\n",
       "      <td>Pleno</td>\n",
       "      <td>Analista de Dados Pleno</td>\n",
       "      <td>DHL Express</td>\n",
       "      <td>São Paulo</td>\n",
       "      <td>SP</td>\n",
       "      <td>NaN</td>\n",
       "      <td>NaN</td>\n",
       "      <td>Regime CLT</td>\n",
       "      <td>NaN</td>\n",
       "      <td>['Assistência médica', 'Assistência odontológi...</td>\n",
       "      <td>v2590354</td>\n",
       "      <td>Descrição\\nDescrição: SUAS ATIVIDADES:\\nColeta...</td>\n",
       "    </tr>\n",
       "    <tr>\n",
       "      <th>2</th>\n",
       "      <td>Vagas.com</td>\n",
       "      <td>https://www.vagas.com.br/vagas/v2604780/analis...</td>\n",
       "      <td>NaN</td>\n",
       "      <td>Publicada em 23/01/2024</td>\n",
       "      <td>2024-02-23</td>\n",
       "      <td>2024-02-07</td>\n",
       "      <td>Analista de Dados</td>\n",
       "      <td>Júnior/Trainee</td>\n",
       "      <td>Analista de Dados Júnior</td>\n",
       "      <td>JCDecaux do Brasil</td>\n",
       "      <td>São Paulo</td>\n",
       "      <td>SP</td>\n",
       "      <td>NaN</td>\n",
       "      <td>NaN</td>\n",
       "      <td>Regime CLT</td>\n",
       "      <td>NaN</td>\n",
       "      <td>['Assistência médica', 'Assistência odontológi...</td>\n",
       "      <td>v2604780</td>\n",
       "      <td>Descrição\\nDescrição: ▪ Minerar os dados e pro...</td>\n",
       "    </tr>\n",
       "    <tr>\n",
       "      <th>3</th>\n",
       "      <td>Vagas.com</td>\n",
       "      <td>https://www.vagas.com.br/vagas/v2607890/analis...</td>\n",
       "      <td>NaN</td>\n",
       "      <td>Publicada há 6 dias</td>\n",
       "      <td>2024-03-08</td>\n",
       "      <td>2024-02-07</td>\n",
       "      <td>Analista de Dados</td>\n",
       "      <td>Júnior/Trainee</td>\n",
       "      <td>Analista de Dados I</td>\n",
       "      <td>Hospital Pequeno Príncipe</td>\n",
       "      <td>Curitiba</td>\n",
       "      <td>PR</td>\n",
       "      <td>NaN</td>\n",
       "      <td>NaN</td>\n",
       "      <td>Regime CLT</td>\n",
       "      <td>NaN</td>\n",
       "      <td>['Assistência médica', 'Assistência odontológi...</td>\n",
       "      <td>v2607890</td>\n",
       "      <td>Descrição\\nDescrição: Analisar as necessidades...</td>\n",
       "    </tr>\n",
       "    <tr>\n",
       "      <th>4</th>\n",
       "      <td>Vagas.com</td>\n",
       "      <td>https://www.vagas.com.br/vagas/v2607407/analis...</td>\n",
       "      <td>NaN</td>\n",
       "      <td>Publicada há 6 dias</td>\n",
       "      <td>2024-02-07</td>\n",
       "      <td>2024-02-07</td>\n",
       "      <td>Analista de Dados</td>\n",
       "      <td>Pleno</td>\n",
       "      <td>Analista de Dados e Pesquisa Pleno - (Ênfase e...</td>\n",
       "      <td>Fundação Faculdade de Medicina</td>\n",
       "      <td>São Paulo</td>\n",
       "      <td>SP</td>\n",
       "      <td>NaN</td>\n",
       "      <td>NaN</td>\n",
       "      <td>Regime CLT</td>\n",
       "      <td>NaN</td>\n",
       "      <td>NaN</td>\n",
       "      <td>v2607407</td>\n",
       "      <td>Descrição\\nÁrea de Atuação: FFM - Saúde Digita...</td>\n",
       "    </tr>\n",
       "  </tbody>\n",
       "</table>\n",
       "</div>"
      ],
      "text/plain": [
       "  site_da_vaga                                          link_site  \\\n",
       "0    Vagas.com  https://www.vagas.com.br/vagas/v2597008/analis...   \n",
       "1    Vagas.com  https://www.vagas.com.br/vagas/v2590354/analis...   \n",
       "2    Vagas.com  https://www.vagas.com.br/vagas/v2604780/analis...   \n",
       "3    Vagas.com  https://www.vagas.com.br/vagas/v2607890/analis...   \n",
       "4    Vagas.com  https://www.vagas.com.br/vagas/v2607407/analis...   \n",
       "\n",
       "   link_origem          data_publicacao data_expiracao data_coleta  \\\n",
       "0          NaN  Publicada em 29/12/2023            NaN  2024-02-07   \n",
       "1          NaN  Publicada em 07/12/2023     2024-02-29  2024-02-07   \n",
       "2          NaN  Publicada em 23/01/2024     2024-02-23  2024-02-07   \n",
       "3          NaN      Publicada há 6 dias     2024-03-08  2024-02-07   \n",
       "4          NaN      Publicada há 6 dias     2024-02-07  2024-02-07   \n",
       "\n",
       "             posicao     senioridade  \\\n",
       "0  Analista de Dados           Pleno   \n",
       "1  Analista de Dados           Pleno   \n",
       "2  Analista de Dados  Júnior/Trainee   \n",
       "3  Analista de Dados  Júnior/Trainee   \n",
       "4  Analista de Dados           Pleno   \n",
       "\n",
       "                                         titulo_vaga  \\\n",
       "0                                  Analista de Dados   \n",
       "1                            Analista de Dados Pleno   \n",
       "2                           Analista de Dados Júnior   \n",
       "3                                Analista de Dados I   \n",
       "4  Analista de Dados e Pesquisa Pleno - (Ênfase e...   \n",
       "\n",
       "                     nome_empresa     cidade        estado  modalidade  \\\n",
       "0                         Tangará        NaN  Minas Gerais         NaN   \n",
       "1                     DHL Express  São Paulo            SP         NaN   \n",
       "2              JCDecaux do Brasil  São Paulo            SP         NaN   \n",
       "3       Hospital Pequeno Príncipe   Curitiba            PR         NaN   \n",
       "4  Fundação Faculdade de Medicina  São Paulo            SP         NaN   \n",
       "\n",
       "   contrato      regime  pcd  \\\n",
       "0       NaN  Regime CLT  NaN   \n",
       "1       NaN  Regime CLT  NaN   \n",
       "2       NaN  Regime CLT  NaN   \n",
       "3       NaN  Regime CLT  NaN   \n",
       "4       NaN  Regime CLT  NaN   \n",
       "\n",
       "                                          beneficios codigo_vaga  \\\n",
       "0  ['Assistência médica', 'Assistência odontológi...    v2597008   \n",
       "1  ['Assistência médica', 'Assistência odontológi...    v2590354   \n",
       "2  ['Assistência médica', 'Assistência odontológi...    v2604780   \n",
       "3  ['Assistência médica', 'Assistência odontológi...    v2607890   \n",
       "4                                                NaN    v2607407   \n",
       "\n",
       "                                           descricao  \n",
       "0  Descrição\\nDescrição: Atividades:\\nRealizar at...  \n",
       "1  Descrição\\nDescrição: SUAS ATIVIDADES:\\nColeta...  \n",
       "2  Descrição\\nDescrição: ▪ Minerar os dados e pro...  \n",
       "3  Descrição\\nDescrição: Analisar as necessidades...  \n",
       "4  Descrição\\nÁrea de Atuação: FFM - Saúde Digita...  "
      ]
     },
     "execution_count": 27,
     "metadata": {},
     "output_type": "execute_result"
    }
   ],
   "source": [
    "df_vagas = pd.read_excel('../data/data_raw/vagas_vagas_raw.xlsx')\n",
    "df_vagas.head()"
   ]
  },
  {
   "cell_type": "code",
   "execution_count": 28,
   "metadata": {},
   "outputs": [
    {
     "data": {
      "text/plain": [
       "regime\n",
       "Regime CLT         568\n",
       "Estágio             63\n",
       "Temporário          46\n",
       "Pessoa Jurídica     10\n",
       "Freelancer           1\n",
       "Name: count, dtype: int64"
      ]
     },
     "execution_count": 28,
     "metadata": {},
     "output_type": "execute_result"
    }
   ],
   "source": [
    "df_vagas['regime'].value_counts()"
   ]
  },
  {
   "cell_type": "code",
   "execution_count": 29,
   "metadata": {},
   "outputs": [],
   "source": [
    "def clean_publish_date(date_string: str) -> str | int:\n",
    "\n",
    "    if 'dias' in date_string:\n",
    "        days = re.findall(r'\\d+', date_string)[0]\n",
    "        return int(days)\n",
    "    \n",
    "    elif 'ontem' in date_string:\n",
    "        return 1\n",
    "    \n",
    "    elif 'hoje' in date_string:\n",
    "        return 0\n",
    "    \n",
    "    else:\n",
    "\n",
    "        date = date_string.split(' ')[-1]\n",
    "\n",
    "        date = date.split('/')\n",
    "        date.reverse()\n",
    "\n",
    "        formatted_date = '-'.join(date)\n",
    "\n",
    "        return formatted_date\n",
    "\n",
    "\n",
    "def subtract_date(date: str, days: int) -> str:\n",
    "    \n",
    "    real_date_datetime = datetime.strptime(date, '%Y-%m-%d') - timedelta(days)\n",
    "    real_date_string = real_date_datetime.strftime('%Y-%m-%d')\n",
    "\n",
    "    return real_date_string"
   ]
  },
  {
   "cell_type": "code",
   "execution_count": 30,
   "metadata": {},
   "outputs": [],
   "source": [
    "state_uf = {\n",
    "            'Acre': 'AC',\n",
    "            'Alagoas': 'AL',\n",
    "            'Amazonas': 'AM',\n",
    "            'Amapá': 'AP',\n",
    "            'Bahia': 'BA',\n",
    "            'Ceará': 'CE',\n",
    "            'Distrito Federal': 'DF',\n",
    "            'Espírito Santo': 'ES',\n",
    "            'Goiás': 'GO',\n",
    "            'Maranhão': 'MA',\n",
    "            'Mato Grosso': 'MT',\n",
    "            'Mato Grosso do Sul': 'MS',\n",
    "            'Minas Gerais': 'MG',\n",
    "            'Pará': 'PA',\n",
    "            'Paraíba': 'PB',\n",
    "            'Paraná': 'PR',\n",
    "            'Pernambuco': 'PE',\n",
    "            'Piauí': 'PI',\n",
    "            'Rio de Janeiro': 'RJ',\n",
    "            'Rio Grande do Norte': 'RN',\n",
    "            'Rio Grande do Sul': 'RS',\n",
    "            'Rondônia': 'RO',\n",
    "            'Roraima': 'RR',\n",
    "            'Santa Catarina': 'SC',\n",
    "            'São Paulo': 'SP',\n",
    "            'Sergipe': 'SE',\n",
    "            'Tocantins': 'TO'\n",
    "    }\n",
    "\n",
    "\n",
    "def get_state_uf(state: str) -> str:\n",
    "    \n",
    "    if state_uf.get(state) is None:\n",
    "        return state\n",
    "    else:\n",
    "        return state_uf.get(state)"
   ]
  },
  {
   "cell_type": "code",
   "execution_count": 31,
   "metadata": {},
   "outputs": [],
   "source": [
    "def search_description_regex(search_words: list[str], job_description: str) -> list[str]:\n",
    "    \n",
    "    search_mask = rf'({\"|\".join(search_words)})'\n",
    "\n",
    "    matches = re.findall(search_mask, job_description, flags=re.I)\n",
    "\n",
    "    matches = list( map( str.lower, matches ) )\n",
    "\n",
    "    return matches\n",
    "\n",
    "\n",
    "def fill_modality_column(search_words: list[str], job_description: str) -> str:\n",
    "\n",
    "    matched_words = search_description_regex(search_words, job_description)\n",
    "    \n",
    "    search_words = search_words[:]      # cria uma copia da lista (não afeta a variável global passada como referência)\n",
    "    search_words.remove('Presencial')\n",
    "\n",
    "    if 'híbrido' in matched_words:\n",
    "        return 'Híbrido'\n",
    "    \n",
    "    elif any( True if word.lower() in matched_words else False for word in search_words):\n",
    "        return 'Remoto'\n",
    "    \n",
    "    else:\n",
    "        return 'Presencial'\n",
    "    \n",
    "\n",
    "def fill_pcd_column(search_words: list[str], job_description: str) -> str:\n",
    "    \n",
    "    matched_words = search_description_regex(search_words, job_description)\n",
    "\n",
    "    search_condition = any( True if pcd_word.lower() in matched_words else False for pcd_word in search_words )\n",
    "\n",
    "    if search_condition:\n",
    "        return 'Sim'\n",
    "    else:\n",
    "        return 'Não informado'"
   ]
  },
  {
   "cell_type": "code",
   "execution_count": 32,
   "metadata": {},
   "outputs": [],
   "source": [
    "df_vagas['data_publicacao'] = df_vagas['data_publicacao'].apply( lambda date: clean_publish_date(date) )\n",
    "\n",
    "df_vagas['estado'] = df_vagas['estado'].apply( lambda state: get_state_uf(state) )\n",
    "\n",
    "df_vagas['contrato'] = df_vagas['regime'].apply( lambda regime: 'Efetivo'    if regime == 'Regime CLT'      else\n",
    "                                                                'Associado'  if regime == 'Pessoa Jurídica' else\n",
    "                                                                'Estágio'    if regime == 'Estágio'         else\n",
    "                                                                'Temporário' if regime == 'Temporário'      else\n",
    "                                                                'Não informado'\n",
    "                                                    )\n",
    "\n",
    "\n",
    "df_vagas['data_publicacao'] = df_vagas.apply( \n",
    "                                        lambda x: \n",
    "                                             subtract_date(x['data_coleta'], x['data_publicacao']) \n",
    "                                             if isinstance(x['data_publicacao'], int) else \n",
    "                                             x['data_publicacao'], axis=1 \n",
    "                                        )\n",
    "\n",
    "\n",
    "\n",
    "modalidade_search = ['Híbrido', 'Remoto', 'Home Office', 'Presencial']\n",
    "\n",
    "df_vagas['modalidade'] = df_vagas.apply( lambda columns: 'Remoto' if columns['estado'] == 'Todo o Brasil' else \n",
    "                                                          fill_modality_column(modalidade_search, columns['descricao']), \n",
    "                                        axis=1\n",
    "                                 )\n",
    "\n",
    "\n",
    "pcd_search = ['PcD', 'deficiência', 'deficiente']\n",
    "\n",
    "df_vagas['pcd'] = df_vagas['descricao'].apply( lambda description: fill_pcd_column(pcd_search, description) )"
   ]
  },
  {
   "cell_type": "code",
   "execution_count": 33,
   "metadata": {},
   "outputs": [
    {
     "data": {
      "text/html": [
       "<div>\n",
       "<style scoped>\n",
       "    .dataframe tbody tr th:only-of-type {\n",
       "        vertical-align: middle;\n",
       "    }\n",
       "\n",
       "    .dataframe tbody tr th {\n",
       "        vertical-align: top;\n",
       "    }\n",
       "\n",
       "    .dataframe thead th {\n",
       "        text-align: right;\n",
       "    }\n",
       "</style>\n",
       "<table border=\"1\" class=\"dataframe\">\n",
       "  <thead>\n",
       "    <tr style=\"text-align: right;\">\n",
       "      <th></th>\n",
       "      <th>site_da_vaga</th>\n",
       "      <th>link_site</th>\n",
       "      <th>link_origem</th>\n",
       "      <th>data_publicacao</th>\n",
       "      <th>data_expiracao</th>\n",
       "      <th>data_coleta</th>\n",
       "      <th>posicao</th>\n",
       "      <th>senioridade</th>\n",
       "      <th>titulo_vaga</th>\n",
       "      <th>nome_empresa</th>\n",
       "      <th>cidade</th>\n",
       "      <th>estado</th>\n",
       "      <th>modalidade</th>\n",
       "      <th>contrato</th>\n",
       "      <th>regime</th>\n",
       "      <th>pcd</th>\n",
       "      <th>beneficios</th>\n",
       "      <th>codigo_vaga</th>\n",
       "      <th>descricao</th>\n",
       "    </tr>\n",
       "  </thead>\n",
       "  <tbody>\n",
       "    <tr>\n",
       "      <th>0</th>\n",
       "      <td>Vagas.com</td>\n",
       "      <td>https://www.vagas.com.br/vagas/v2597008/analis...</td>\n",
       "      <td>NaN</td>\n",
       "      <td>2023-12-29</td>\n",
       "      <td>NaN</td>\n",
       "      <td>2024-02-07</td>\n",
       "      <td>Analista de Dados</td>\n",
       "      <td>Pleno</td>\n",
       "      <td>Analista de Dados</td>\n",
       "      <td>Tangará</td>\n",
       "      <td>NaN</td>\n",
       "      <td>MG</td>\n",
       "      <td>Presencial</td>\n",
       "      <td>Efetivo</td>\n",
       "      <td>Regime CLT</td>\n",
       "      <td>Não informado</td>\n",
       "      <td>['Assistência médica', 'Assistência odontológi...</td>\n",
       "      <td>v2597008</td>\n",
       "      <td>Descrição\\nDescrição: Atividades:\\nRealizar at...</td>\n",
       "    </tr>\n",
       "    <tr>\n",
       "      <th>1</th>\n",
       "      <td>Vagas.com</td>\n",
       "      <td>https://www.vagas.com.br/vagas/v2590354/analis...</td>\n",
       "      <td>NaN</td>\n",
       "      <td>2023-12-07</td>\n",
       "      <td>2024-02-29</td>\n",
       "      <td>2024-02-07</td>\n",
       "      <td>Analista de Dados</td>\n",
       "      <td>Pleno</td>\n",
       "      <td>Analista de Dados Pleno</td>\n",
       "      <td>DHL Express</td>\n",
       "      <td>São Paulo</td>\n",
       "      <td>SP</td>\n",
       "      <td>Presencial</td>\n",
       "      <td>Efetivo</td>\n",
       "      <td>Regime CLT</td>\n",
       "      <td>Não informado</td>\n",
       "      <td>['Assistência médica', 'Assistência odontológi...</td>\n",
       "      <td>v2590354</td>\n",
       "      <td>Descrição\\nDescrição: SUAS ATIVIDADES:\\nColeta...</td>\n",
       "    </tr>\n",
       "    <tr>\n",
       "      <th>2</th>\n",
       "      <td>Vagas.com</td>\n",
       "      <td>https://www.vagas.com.br/vagas/v2604780/analis...</td>\n",
       "      <td>NaN</td>\n",
       "      <td>2024-01-23</td>\n",
       "      <td>2024-02-23</td>\n",
       "      <td>2024-02-07</td>\n",
       "      <td>Analista de Dados</td>\n",
       "      <td>Júnior/Trainee</td>\n",
       "      <td>Analista de Dados Júnior</td>\n",
       "      <td>JCDecaux do Brasil</td>\n",
       "      <td>São Paulo</td>\n",
       "      <td>SP</td>\n",
       "      <td>Presencial</td>\n",
       "      <td>Efetivo</td>\n",
       "      <td>Regime CLT</td>\n",
       "      <td>Não informado</td>\n",
       "      <td>['Assistência médica', 'Assistência odontológi...</td>\n",
       "      <td>v2604780</td>\n",
       "      <td>Descrição\\nDescrição: ▪ Minerar os dados e pro...</td>\n",
       "    </tr>\n",
       "    <tr>\n",
       "      <th>3</th>\n",
       "      <td>Vagas.com</td>\n",
       "      <td>https://www.vagas.com.br/vagas/v2607890/analis...</td>\n",
       "      <td>NaN</td>\n",
       "      <td>2024-02-01</td>\n",
       "      <td>2024-03-08</td>\n",
       "      <td>2024-02-07</td>\n",
       "      <td>Analista de Dados</td>\n",
       "      <td>Júnior/Trainee</td>\n",
       "      <td>Analista de Dados I</td>\n",
       "      <td>Hospital Pequeno Príncipe</td>\n",
       "      <td>Curitiba</td>\n",
       "      <td>PR</td>\n",
       "      <td>Presencial</td>\n",
       "      <td>Efetivo</td>\n",
       "      <td>Regime CLT</td>\n",
       "      <td>Não informado</td>\n",
       "      <td>['Assistência médica', 'Assistência odontológi...</td>\n",
       "      <td>v2607890</td>\n",
       "      <td>Descrição\\nDescrição: Analisar as necessidades...</td>\n",
       "    </tr>\n",
       "    <tr>\n",
       "      <th>4</th>\n",
       "      <td>Vagas.com</td>\n",
       "      <td>https://www.vagas.com.br/vagas/v2607407/analis...</td>\n",
       "      <td>NaN</td>\n",
       "      <td>2024-02-01</td>\n",
       "      <td>2024-02-07</td>\n",
       "      <td>2024-02-07</td>\n",
       "      <td>Analista de Dados</td>\n",
       "      <td>Pleno</td>\n",
       "      <td>Analista de Dados e Pesquisa Pleno - (Ênfase e...</td>\n",
       "      <td>Fundação Faculdade de Medicina</td>\n",
       "      <td>São Paulo</td>\n",
       "      <td>SP</td>\n",
       "      <td>Presencial</td>\n",
       "      <td>Efetivo</td>\n",
       "      <td>Regime CLT</td>\n",
       "      <td>Não informado</td>\n",
       "      <td>NaN</td>\n",
       "      <td>v2607407</td>\n",
       "      <td>Descrição\\nÁrea de Atuação: FFM - Saúde Digita...</td>\n",
       "    </tr>\n",
       "    <tr>\n",
       "      <th>...</th>\n",
       "      <td>...</td>\n",
       "      <td>...</td>\n",
       "      <td>...</td>\n",
       "      <td>...</td>\n",
       "      <td>...</td>\n",
       "      <td>...</td>\n",
       "      <td>...</td>\n",
       "      <td>...</td>\n",
       "      <td>...</td>\n",
       "      <td>...</td>\n",
       "      <td>...</td>\n",
       "      <td>...</td>\n",
       "      <td>...</td>\n",
       "      <td>...</td>\n",
       "      <td>...</td>\n",
       "      <td>...</td>\n",
       "      <td>...</td>\n",
       "      <td>...</td>\n",
       "      <td>...</td>\n",
       "    </tr>\n",
       "    <tr>\n",
       "      <th>683</th>\n",
       "      <td>Vagas.com</td>\n",
       "      <td>https://www.vagas.com.br/vagas/v2604407/especi...</td>\n",
       "      <td>NaN</td>\n",
       "      <td>2024-01-22</td>\n",
       "      <td>2024-02-20</td>\n",
       "      <td>2024-02-07</td>\n",
       "      <td>Engenharia de Dados</td>\n",
       "      <td>Sênior</td>\n",
       "      <td>Especialista Inovação e Desenvolvimento de Nov...</td>\n",
       "      <td>Vivo (Telefônica Brasil)</td>\n",
       "      <td>São Paulo</td>\n",
       "      <td>SP</td>\n",
       "      <td>Presencial</td>\n",
       "      <td>Efetivo</td>\n",
       "      <td>Regime CLT</td>\n",
       "      <td>Sim</td>\n",
       "      <td>['Assistência médica', 'Assistência odontológi...</td>\n",
       "      <td>v2604407</td>\n",
       "      <td>Descrição\\nDescrição: Vaga Exclusiva para Prof...</td>\n",
       "    </tr>\n",
       "    <tr>\n",
       "      <th>684</th>\n",
       "      <td>Vagas.com</td>\n",
       "      <td>https://www.vagas.com.br/vagas/v2604403/consul...</td>\n",
       "      <td>NaN</td>\n",
       "      <td>2024-01-22</td>\n",
       "      <td>2024-02-20</td>\n",
       "      <td>2024-02-07</td>\n",
       "      <td>Engenharia de Dados</td>\n",
       "      <td>Sênior</td>\n",
       "      <td>Consultor(a) de Riscos Financeiros (Vaga Exclu...</td>\n",
       "      <td>Vivo (Telefônica Brasil)</td>\n",
       "      <td>São Paulo</td>\n",
       "      <td>SP</td>\n",
       "      <td>Presencial</td>\n",
       "      <td>Efetivo</td>\n",
       "      <td>Regime CLT</td>\n",
       "      <td>Sim</td>\n",
       "      <td>['Assistência médica', 'Assistência odontológi...</td>\n",
       "      <td>v2604403</td>\n",
       "      <td>Descrição\\nDescrição: Vaga Exclusiva para Prof...</td>\n",
       "    </tr>\n",
       "    <tr>\n",
       "      <th>685</th>\n",
       "      <td>Vagas.com</td>\n",
       "      <td>https://www.vagas.com.br/vagas/v2591690/superv...</td>\n",
       "      <td>NaN</td>\n",
       "      <td>2023-12-12</td>\n",
       "      <td>2024-02-29</td>\n",
       "      <td>2024-02-07</td>\n",
       "      <td>Engenharia de Dados</td>\n",
       "      <td>Supervisão/Coordenação</td>\n",
       "      <td>Supervisor de Produção</td>\n",
       "      <td>DFL Indústria e Comércio S/A</td>\n",
       "      <td>Rio de Janeiro</td>\n",
       "      <td>RJ</td>\n",
       "      <td>Presencial</td>\n",
       "      <td>Efetivo</td>\n",
       "      <td>Regime CLT</td>\n",
       "      <td>Não informado</td>\n",
       "      <td>['Assistência médica', 'Assistência odontológi...</td>\n",
       "      <td>v2591690</td>\n",
       "      <td>Descrição\\nDescrição: \\nControlar e orientar a...</td>\n",
       "    </tr>\n",
       "    <tr>\n",
       "      <th>686</th>\n",
       "      <td>Vagas.com</td>\n",
       "      <td>https://www.vagas.com.br/vagas/v2604177/consul...</td>\n",
       "      <td>NaN</td>\n",
       "      <td>2024-01-22</td>\n",
       "      <td>2024-02-20</td>\n",
       "      <td>2024-02-07</td>\n",
       "      <td>Engenharia de Dados</td>\n",
       "      <td>Pleno</td>\n",
       "      <td>Consultor(a) de Transformação Digital (Vaga Ex...</td>\n",
       "      <td>Vivo (Telefônica Brasil)</td>\n",
       "      <td>São Paulo</td>\n",
       "      <td>SP</td>\n",
       "      <td>Presencial</td>\n",
       "      <td>Efetivo</td>\n",
       "      <td>Regime CLT</td>\n",
       "      <td>Sim</td>\n",
       "      <td>['Assistência médica', 'Assistência odontológi...</td>\n",
       "      <td>v2604177</td>\n",
       "      <td>Descrição\\nDescrição: Vaga exclusive para prof...</td>\n",
       "    </tr>\n",
       "    <tr>\n",
       "      <th>687</th>\n",
       "      <td>Vagas.com</td>\n",
       "      <td>https://www.vagas.com.br/vagas/v2604218/planej...</td>\n",
       "      <td>NaN</td>\n",
       "      <td>2024-01-22</td>\n",
       "      <td>NaN</td>\n",
       "      <td>2024-02-07</td>\n",
       "      <td>Engenharia de Dados</td>\n",
       "      <td>Júnior/Trainee</td>\n",
       "      <td>Planejador de Manutenção</td>\n",
       "      <td>Ultracargo</td>\n",
       "      <td>NaN</td>\n",
       "      <td>SP</td>\n",
       "      <td>Presencial</td>\n",
       "      <td>Efetivo</td>\n",
       "      <td>Regime CLT</td>\n",
       "      <td>Sim</td>\n",
       "      <td>['Assistência médica', 'Assistência odontológi...</td>\n",
       "      <td>v2604218</td>\n",
       "      <td>Descrição\\nDescrição: Na Ultracargo, acreditam...</td>\n",
       "    </tr>\n",
       "  </tbody>\n",
       "</table>\n",
       "<p>688 rows × 19 columns</p>\n",
       "</div>"
      ],
      "text/plain": [
       "    site_da_vaga                                          link_site  \\\n",
       "0      Vagas.com  https://www.vagas.com.br/vagas/v2597008/analis...   \n",
       "1      Vagas.com  https://www.vagas.com.br/vagas/v2590354/analis...   \n",
       "2      Vagas.com  https://www.vagas.com.br/vagas/v2604780/analis...   \n",
       "3      Vagas.com  https://www.vagas.com.br/vagas/v2607890/analis...   \n",
       "4      Vagas.com  https://www.vagas.com.br/vagas/v2607407/analis...   \n",
       "..           ...                                                ...   \n",
       "683    Vagas.com  https://www.vagas.com.br/vagas/v2604407/especi...   \n",
       "684    Vagas.com  https://www.vagas.com.br/vagas/v2604403/consul...   \n",
       "685    Vagas.com  https://www.vagas.com.br/vagas/v2591690/superv...   \n",
       "686    Vagas.com  https://www.vagas.com.br/vagas/v2604177/consul...   \n",
       "687    Vagas.com  https://www.vagas.com.br/vagas/v2604218/planej...   \n",
       "\n",
       "     link_origem data_publicacao data_expiracao data_coleta  \\\n",
       "0            NaN      2023-12-29            NaN  2024-02-07   \n",
       "1            NaN      2023-12-07     2024-02-29  2024-02-07   \n",
       "2            NaN      2024-01-23     2024-02-23  2024-02-07   \n",
       "3            NaN      2024-02-01     2024-03-08  2024-02-07   \n",
       "4            NaN      2024-02-01     2024-02-07  2024-02-07   \n",
       "..           ...             ...            ...         ...   \n",
       "683          NaN      2024-01-22     2024-02-20  2024-02-07   \n",
       "684          NaN      2024-01-22     2024-02-20  2024-02-07   \n",
       "685          NaN      2023-12-12     2024-02-29  2024-02-07   \n",
       "686          NaN      2024-01-22     2024-02-20  2024-02-07   \n",
       "687          NaN      2024-01-22            NaN  2024-02-07   \n",
       "\n",
       "                 posicao             senioridade  \\\n",
       "0      Analista de Dados                   Pleno   \n",
       "1      Analista de Dados                   Pleno   \n",
       "2      Analista de Dados          Júnior/Trainee   \n",
       "3      Analista de Dados          Júnior/Trainee   \n",
       "4      Analista de Dados                   Pleno   \n",
       "..                   ...                     ...   \n",
       "683  Engenharia de Dados                  Sênior   \n",
       "684  Engenharia de Dados                  Sênior   \n",
       "685  Engenharia de Dados  Supervisão/Coordenação   \n",
       "686  Engenharia de Dados                   Pleno   \n",
       "687  Engenharia de Dados          Júnior/Trainee   \n",
       "\n",
       "                                           titulo_vaga  \\\n",
       "0                                    Analista de Dados   \n",
       "1                              Analista de Dados Pleno   \n",
       "2                             Analista de Dados Júnior   \n",
       "3                                  Analista de Dados I   \n",
       "4    Analista de Dados e Pesquisa Pleno - (Ênfase e...   \n",
       "..                                                 ...   \n",
       "683  Especialista Inovação e Desenvolvimento de Nov...   \n",
       "684  Consultor(a) de Riscos Financeiros (Vaga Exclu...   \n",
       "685                             Supervisor de Produção   \n",
       "686  Consultor(a) de Transformação Digital (Vaga Ex...   \n",
       "687                           Planejador de Manutenção   \n",
       "\n",
       "                       nome_empresa          cidade estado  modalidade  \\\n",
       "0                           Tangará             NaN     MG  Presencial   \n",
       "1                       DHL Express       São Paulo     SP  Presencial   \n",
       "2                JCDecaux do Brasil       São Paulo     SP  Presencial   \n",
       "3         Hospital Pequeno Príncipe        Curitiba     PR  Presencial   \n",
       "4    Fundação Faculdade de Medicina       São Paulo     SP  Presencial   \n",
       "..                              ...             ...    ...         ...   \n",
       "683        Vivo (Telefônica Brasil)       São Paulo     SP  Presencial   \n",
       "684        Vivo (Telefônica Brasil)       São Paulo     SP  Presencial   \n",
       "685    DFL Indústria e Comércio S/A  Rio de Janeiro     RJ  Presencial   \n",
       "686        Vivo (Telefônica Brasil)       São Paulo     SP  Presencial   \n",
       "687                      Ultracargo             NaN     SP  Presencial   \n",
       "\n",
       "    contrato      regime            pcd  \\\n",
       "0    Efetivo  Regime CLT  Não informado   \n",
       "1    Efetivo  Regime CLT  Não informado   \n",
       "2    Efetivo  Regime CLT  Não informado   \n",
       "3    Efetivo  Regime CLT  Não informado   \n",
       "4    Efetivo  Regime CLT  Não informado   \n",
       "..       ...         ...            ...   \n",
       "683  Efetivo  Regime CLT            Sim   \n",
       "684  Efetivo  Regime CLT            Sim   \n",
       "685  Efetivo  Regime CLT  Não informado   \n",
       "686  Efetivo  Regime CLT            Sim   \n",
       "687  Efetivo  Regime CLT            Sim   \n",
       "\n",
       "                                            beneficios codigo_vaga  \\\n",
       "0    ['Assistência médica', 'Assistência odontológi...    v2597008   \n",
       "1    ['Assistência médica', 'Assistência odontológi...    v2590354   \n",
       "2    ['Assistência médica', 'Assistência odontológi...    v2604780   \n",
       "3    ['Assistência médica', 'Assistência odontológi...    v2607890   \n",
       "4                                                  NaN    v2607407   \n",
       "..                                                 ...         ...   \n",
       "683  ['Assistência médica', 'Assistência odontológi...    v2604407   \n",
       "684  ['Assistência médica', 'Assistência odontológi...    v2604403   \n",
       "685  ['Assistência médica', 'Assistência odontológi...    v2591690   \n",
       "686  ['Assistência médica', 'Assistência odontológi...    v2604177   \n",
       "687  ['Assistência médica', 'Assistência odontológi...    v2604218   \n",
       "\n",
       "                                             descricao  \n",
       "0    Descrição\\nDescrição: Atividades:\\nRealizar at...  \n",
       "1    Descrição\\nDescrição: SUAS ATIVIDADES:\\nColeta...  \n",
       "2    Descrição\\nDescrição: ▪ Minerar os dados e pro...  \n",
       "3    Descrição\\nDescrição: Analisar as necessidades...  \n",
       "4    Descrição\\nÁrea de Atuação: FFM - Saúde Digita...  \n",
       "..                                                 ...  \n",
       "683  Descrição\\nDescrição: Vaga Exclusiva para Prof...  \n",
       "684  Descrição\\nDescrição: Vaga Exclusiva para Prof...  \n",
       "685  Descrição\\nDescrição: \\nControlar e orientar a...  \n",
       "686  Descrição\\nDescrição: Vaga exclusive para prof...  \n",
       "687  Descrição\\nDescrição: Na Ultracargo, acreditam...  \n",
       "\n",
       "[688 rows x 19 columns]"
      ]
     },
     "execution_count": 33,
     "metadata": {},
     "output_type": "execute_result"
    }
   ],
   "source": [
    "df_vagas"
   ]
  },
  {
   "cell_type": "code",
   "execution_count": 34,
   "metadata": {},
   "outputs": [
    {
     "data": {
      "text/plain": [
       "pcd\n",
       "Não informado    602\n",
       "Sim               86\n",
       "Name: count, dtype: int64"
      ]
     },
     "execution_count": 34,
     "metadata": {},
     "output_type": "execute_result"
    }
   ],
   "source": [
    "df_vagas['pcd'].value_counts()"
   ]
  },
  {
   "cell_type": "code",
   "execution_count": 35,
   "metadata": {},
   "outputs": [
    {
     "data": {
      "text/plain": [
       "modalidade\n",
       "Presencial    584\n",
       "Remoto         53\n",
       "Híbrido        51\n",
       "Name: count, dtype: int64"
      ]
     },
     "execution_count": 35,
     "metadata": {},
     "output_type": "execute_result"
    }
   ],
   "source": [
    "df_vagas['modalidade'].value_counts()"
   ]
  },
  {
   "cell_type": "code",
   "execution_count": 36,
   "metadata": {},
   "outputs": [
    {
     "data": {
      "text/plain": [
       "contrato\n",
       "Efetivo          568\n",
       "Estágio           63\n",
       "Temporário        46\n",
       "Associado         10\n",
       "Não informado      1\n",
       "Name: count, dtype: int64"
      ]
     },
     "execution_count": 36,
     "metadata": {},
     "output_type": "execute_result"
    }
   ],
   "source": [
    "df_vagas['contrato'].value_counts()"
   ]
  },
  {
   "cell_type": "code",
   "execution_count": 37,
   "metadata": {},
   "outputs": [
    {
     "data": {
      "text/plain": [
       "regime\n",
       "Regime CLT         568\n",
       "Estágio             63\n",
       "Temporário          46\n",
       "Pessoa Jurídica     10\n",
       "Freelancer           1\n",
       "Name: count, dtype: int64"
      ]
     },
     "execution_count": 37,
     "metadata": {},
     "output_type": "execute_result"
    }
   ],
   "source": [
    "df_vagas['regime'].value_counts()"
   ]
  },
  {
   "cell_type": "markdown",
   "metadata": {},
   "source": [
    "## Skills"
   ]
  },
  {
   "cell_type": "code",
   "execution_count": 38,
   "metadata": {},
   "outputs": [
    {
     "data": {
      "text/plain": [
       "0     https://www.vagas.com.br/vagas/v2597008/analis...\n",
       "1     https://www.vagas.com.br/vagas/v2590354/analis...\n",
       "2     https://www.vagas.com.br/vagas/v2604780/analis...\n",
       "3     https://www.vagas.com.br/vagas/v2607890/analis...\n",
       "4     https://www.vagas.com.br/vagas/v2607407/analis...\n",
       "5     https://www.vagas.com.br/vagas/v2599242/analis...\n",
       "6     https://www.vagas.com.br/vagas/v2603378/analis...\n",
       "7     https://www.vagas.com.br/vagas/v2592127/analis...\n",
       "8     https://www.vagas.com.br/vagas/v2606101/analis...\n",
       "9     https://www.vagas.com.br/vagas/v2608282/analis...\n",
       "10    https://www.vagas.com.br/vagas/v2609772/analis...\n",
       "11    https://www.vagas.com.br/vagas/v2600126/analis...\n",
       "12    https://www.vagas.com.br/vagas/v2609377/analis...\n",
       "13    https://www.vagas.com.br/vagas/v2599965/analis...\n",
       "14    https://www.vagas.com.br/vagas/v2607415/analis...\n",
       "15    https://www.vagas.com.br/vagas/v2606068/engenh...\n",
       "16    https://www.vagas.com.br/vagas/v2600201/cienti...\n",
       "17    https://www.vagas.com.br/vagas/v2601363/analis...\n",
       "18    https://www.vagas.com.br/vagas/v2599448/especi...\n",
       "19    https://www.vagas.com.br/vagas/v2605666/analis...\n",
       "Name: link_site, dtype: object"
      ]
     },
     "execution_count": 38,
     "metadata": {},
     "output_type": "execute_result"
    }
   ],
   "source": [
    "links_vagas = df_vagas['link_site'].iloc[:20]\n",
    "links_vagas"
   ]
  },
  {
   "cell_type": "code",
   "execution_count": 39,
   "metadata": {},
   "outputs": [
    {
     "data": {
      "text/plain": [
       "0     Descrição\\nDescrição: Atividades:\\nRealizar at...\n",
       "1     Descrição\\nDescrição: SUAS ATIVIDADES:\\nColeta...\n",
       "2     Descrição\\nDescrição: ▪ Minerar os dados e pro...\n",
       "3     Descrição\\nDescrição: Analisar as necessidades...\n",
       "4     Descrição\\nÁrea de Atuação: FFM - Saúde Digita...\n",
       "5     Descrição\\nDescrição: Resumo:O analista de dad...\n",
       "6     Descrição\\nDescrição: O grupo Lactalis é líder...\n",
       "7     Descrição\\nDescrição: Sobre a VagaDesenvolver ...\n",
       "8     Descrição\\nDescrição: Estamos buscando um Anal...\n",
       "9     Descrição\\nDescrição: Estamos em busca de um(a...\n",
       "10    Descrição\\nDescrição: Realizar a análise e lei...\n",
       "11    Descrição\\nDescrição: Requisitos:- Formação Su...\n",
       "12    Descrição\\nDescrição: Requisitos Obrigatórios:...\n",
       "13    Descrição\\nDescrição: Seja um educador ou educ...\n",
       "14    Descrição\\nÁrea de Atuação: FFM - Saúde Digita...\n",
       "15    Descrição\\nDescrição: Estamos em busca de um E...\n",
       "16    Descrição\\nDescrição: Principais responsabilid...\n",
       "17    Descrição\\nDescrição: Responsabilidades:\\nMani...\n",
       "18    Descrição\\nDescrição: Na Recovery o(a) Especia...\n",
       "19    Descrição\\nDescrição: VENHA FAZER PARTE DE UMA...\n",
       "20    Descrição\\nDescrição: Atividades: Coletar, org...\n",
       "21    Descrição\\nDescrição: Atividades: Coletar, org...\n",
       "22    Descrição\\nDescrição: Estamos em busca de um A...\n",
       "23    Descrição\\nDescrição: Quais são os desafios da...\n",
       "24    Descrição\\nDescrição: Profissional com experiê...\n",
       "25    Descrição\\nDescrição: Administrar a rede de da...\n",
       "26    Descrição\\nDescrição: Experiência como Analist...\n",
       "27    Descrição\\nDescrição: Vaga: Analista de Planej...\n",
       "28    Descrição\\nDescrição: Missão do Cargo:Desenvol...\n",
       "29    Descrição\\nDescrição: Vaga: Analista de Gestão...\n",
       "30    Descrição\\nDescrição: Experiência prévia em an...\n",
       "31    Descrição\\nDescrição: • Mapear os processos op...\n",
       "32    Descrição\\nDescrição: Disponibilizar dados par...\n",
       "33    Descrição\\nDescrição: Somos um grupo de comuni...\n",
       "34    Descrição\\nDescrição: Responsabilidades:- Gere...\n",
       "35    Descrição\\nDescrição: Vaga: Analista de Tribut...\n",
       "36    Descrição\\nDescrição: Atividades a serem desem...\n",
       "37    Descrição\\nDescrição: Desafios da VagaComo Ana...\n",
       "38    Descrição\\nDescrição: AtribuiçõesResponder pel...\n",
       "39    Descrição\\nDescrição: Vaga: Analista Ambiental...\n",
       "40    Descrição\\nDescrição: Atividades:\\nIrá de repo...\n",
       "41    Descrição\\nDescrição: •\\tDigitação das planilh...\n",
       "42    Descrição\\nDescrição: Estamos em busca de um A...\n",
       "43    Descrição\\nDescrição: Estamos em busca de um A...\n",
       "44    Descrição\\nDescrição: Estamos em busca de um A...\n",
       "45    Descrição\\nDescrição: Buscamos um Analista par...\n",
       "46    Descrição\\nDescrição: Estamos em busca de um A...\n",
       "47    Descrição\\nDescrição: Analista de Logística - ...\n",
       "48    Descrição\\nDescrição: Estamos buscando um(a) A...\n",
       "49    Descrição\\nDescrição: Atribuições:\\nExecutar a...\n",
       "Name: descricao, dtype: object"
      ]
     },
     "execution_count": 39,
     "metadata": {},
     "output_type": "execute_result"
    }
   ],
   "source": [
    "descriptions = df_vagas['descricao'].iloc[:50]\n",
    "descriptions"
   ]
  },
  {
   "cell_type": "code",
   "execution_count": 40,
   "metadata": {},
   "outputs": [
    {
     "data": {
      "text/plain": [
       "'Descrição\\nDescrição: Experiência como Analista de Planejamento Financeiro, incluindo planejamento operacional, processos de PB&F, relatórios gerenciais, análise de cenários e modelagem. Foco em Margens e Custos.Idiomas:Inglês - Nível AvançadoOutros requisitos: \\nExperiência com conjuntos de dados complexos para executar análises e criar relatórios.\\nExperiência no desenvolvimento de business case, comerciais e avaliação de investimentos.\\nResponsável pelas análises e relatórios prospectivos para apoiar os negócios e as finanças na geração de desempenho e valor;\\nProdução de relatórios padrão e ad hoc, incluindo análise de variação e comentários relevantes;\\nCondução de análise e modelagem de cenários usando ferramentas de visualização de dados;\\nMonitoramento do desempenho e fornecimento de informações regulares sobre os impulsionadores do desempenho, destacando oportunidades para maximizar o crescimento;\\nCriação e manutenção de painéis e pacotes de gerenciamento padrão;\\nIdentificação de oportunidades de melhoria de processos e apoio na entrega de sugestões.\\nPré Requisitos:- Relatórios de dados- Balanço / Orçamento / Previsão- Relatórios- Capex- Contabilidade- Análise de margem- Graduação em Economia, Contabilidade, Finanças ou Administração- Especialização em Finanças- Inglês Avançado- Excel Avançado (uso de base de dados, tabelas dinâmicas, relatórios, etc.)- SAP, módulo de contabilidade- Conhecimento em normas internacionais- Power Bi - desejável'"
      ]
     },
     "execution_count": 40,
     "metadata": {},
     "output_type": "execute_result"
    }
   ],
   "source": [
    "descriptions[26]"
   ]
  },
  {
   "cell_type": "code",
   "execution_count": 41,
   "metadata": {},
   "outputs": [],
   "source": [
    "def get_skills_list(description: str) -> list[str]:\n",
    "\n",
    "    # adiciona o ponto-virgula onde havia uma quebra de linha seguida por letra maiuscula\n",
    "    description = re.sub(r'(;?\\n)(?=[A-Z])', r';', description)\n",
    "\n",
    "    # substitui múltiplos espaços por apenas um ('\\t' e '\\n' são substituidos)\n",
    "    description = re.sub(r'\\s+', ' ', description)\n",
    "\n",
    "    # cria uma lista com elementos separados pelos simbolos: '-', ';', '*' etc\n",
    "    skills_list = re.findall(r'(?:(?<=[-\\*\\;\\•\\.]).*?(?=[-\\;\\•\\.]))', description)\n",
    "\n",
    "    # remove items vazios da lista\n",
    "    skills_list = list( filter(None, skills_list) )\n",
    "\n",
    "\n",
    "    return skills_list\n"
   ]
  },
  {
   "cell_type": "code",
   "execution_count": 60,
   "metadata": {},
   "outputs": [],
   "source": [
    "skills_map = {\n",
    "    'Analytics':          ['kpi', 'metricas', 'indicadores', 'analise de dados'],\n",
    "    'Banco de dados':     ['bancos de dados', 'banco de dados', 'relacion'],\n",
    "    'Big data':           ['big data'],\n",
    "    'Clickview':          ['clickview'],\n",
    "    'Cloud':              ['azure', 'aws', 'gcp', 'nuvem', 'cloud'],\n",
    "    'Databricks':         ['databricks'],\n",
    "    'Data Mining':        ['mining'],\n",
    "    'Data Warehouse':     ['warehouse', 'datawarehouse'],\n",
    "    'Dataviz':            ['dashboard', 'relatorio'],\n",
    "    'Docker':             ['docker', 'container'],\n",
    "    'ETL':                ['etl'],\n",
    "    'Estatística':        ['estatistica'],\n",
    "    'Excel':              ['excel'],\n",
    "    'Git':                ['git', 'versionamento'],\n",
    "    'Java':               ['java'],\n",
    "    'Linguagem R':        [' r ', ' r,'],\n",
    "    'Linux':              ['linux'],\n",
    "    'Machine Learning':   ['machine'],\n",
    "    'Matlab':             ['matlab'],\n",
    "    'Modelagem de dados': ['modelagem', 'modelos de dados'],\n",
    "    'MongoDB':            ['mongodb'],\n",
    "    'MySQL':              ['mysql'],\n",
    "    'NoSQL':              ['no sql'],\n",
    "    'Oracle':             ['oracle'],\n",
    "    'Pacote Office':      ['pacote office', 'office'],\n",
    "    'PostgreSQL':         ['postgres'],\n",
    "    'Power BI':           ['power bi', 'pbi', 'powerbi', 'dax'],\n",
    "    'Pós-graduação':      ['pos-graduacao', 'mestrado', 'doutorado'],\n",
    "    'Python':             ['python', 'phython'],\n",
    "    'Scala':              [' scala'],\n",
    "    'Spark':              ['spark'],\n",
    "    'SQL':                ['sql'],\n",
    "    'Storytelling':       ['storytelling'],\n",
    "    'Tableau':            ['tableau'],\n",
    "}"
   ]
  },
  {
   "cell_type": "code",
   "execution_count": 61,
   "metadata": {},
   "outputs": [],
   "source": [
    "from unidecode import unidecode\n",
    "\n",
    "def format_skills_list(skills_list: list[str]) -> list[str]:\n",
    "    skills_str = ', '.join(skills_list)\n",
    "    \n",
    "    skills_str = unidecode(skills_str).lower()\n",
    "\n",
    "    skills_list = []\n",
    "\n",
    "    for skill_name, skill_matches in skills_map.items():\n",
    "        match_lookup = any( True if skill in skills_str else False for skill in skill_matches)\n",
    "\n",
    "        if match_lookup:\n",
    "            skills_list.append(skill_name)\n",
    "        else:\n",
    "            continue\n",
    "        \n",
    "    return skills_list"
   ]
  },
  {
   "cell_type": "code",
   "execution_count": 68,
   "metadata": {},
   "outputs": [
    {
     "data": {
      "text/plain": [
       "['Descrição: SUAS ATIVIDADES:',\n",
       " 'Coletar, limpar e preparar dados de várias fontes para análise em Power BI',\n",
       " 'Atender demandas específicas das áreas funcionais com base em análises realizadas',\n",
       " 'Desenvolver relatórios e painéis interativos no Power BI, focando na apresentação visual de dados complexos de maneira clara e eficaz',\n",
       " 'Colaborar com as equipes internas para entender as necessidades de análise de dados e garantir que os relatórios atendam às expectativas',\n",
       " 'Realizar análises para responder a perguntas de negócios específicas',\n",
       " 'Suportar os times quanto a organização e correlacionamento dos dados para desenvolvimento de relatórios',\n",
       " 'Participar de reuniões de revisão de dados e compartilhar insights com a equipe',\n",
       " 'Manter',\n",
       " 'se atualizado sobre as melhores práticas e novos recursos do Power BI',\n",
       " ';SEU PERFIL:',\n",
       " 'Ensino superior completo',\n",
       " 'Domínio da Linguagem DAX',\n",
       " 'Power BI avançado',\n",
       " 'Inglês intermediário',\n",
       " 'Experiência em análise de dados/BI/Analytics',\n",
       " 'Experiência em análises de negócios com acompanhamento de KPIs',\n",
       " ';Idiomas:Inglês ',\n",
       " ' Nível Intermediário, Inglês ',\n",
       " ' Nível Avançado e Inglês ',\n",
       " ' Nível FluenteOutros requisitos: REQUISITOS DESEJÁVEIS:',\n",
       " 'Conhecimentos de SQL (Mysql) para realização de consultas',\n",
       " 'Conhecimento em metodologias ágeis',\n",
       " 'Excel Avançado',\n",
       " 'Conhecimento em Power Automate para integração com Power BI',\n",
       " 'Noções de Python',\n",
       " ';INFORMAÇÕES ADICIONAIS:Horário da vaga: de segunda sexta',\n",
       " 'feira das 08h30 as 17h30']"
      ]
     },
     "execution_count": 68,
     "metadata": {},
     "output_type": "execute_result"
    }
   ],
   "source": [
    "test_str = descriptions[1]\n",
    "\n",
    "test_skills = get_skills_list(test_str)\n",
    "test_skills"
   ]
  },
  {
   "cell_type": "code",
   "execution_count": 69,
   "metadata": {},
   "outputs": [
    {
     "data": {
      "text/plain": [
       "['Analytics',\n",
       " 'Banco de dados',\n",
       " 'Dataviz',\n",
       " 'Excel',\n",
       " 'MySQL',\n",
       " 'Power BI',\n",
       " 'Python',\n",
       " 'SQL']"
      ]
     },
     "execution_count": 69,
     "metadata": {},
     "output_type": "execute_result"
    }
   ],
   "source": [
    "format_skills_list(test_skills)"
   ]
  },
  {
   "cell_type": "code",
   "execution_count": 74,
   "metadata": {},
   "outputs": [],
   "source": [
    "df_vagas['skills'] = df_vagas['descricao'].apply( lambda description: get_skills_list(description) )\n",
    "df_vagas['skills'] = df_vagas['skills'].apply( lambda skills_list: format_skills_list(skills_list) )"
   ]
  },
  {
   "cell_type": "code",
   "execution_count": 75,
   "metadata": {},
   "outputs": [
    {
     "data": {
      "text/plain": [
       "0      [Banco de dados, Data Warehouse, Dataviz, ETL,...\n",
       "1      [Analytics, Banco de dados, Dataviz, Excel, My...\n",
       "2      [Analytics, Dataviz, Pacote Office, Power BI, ...\n",
       "3                                       [Banco de dados]\n",
       "4      [Analytics, Banco de dados, Dataviz, Estatísti...\n",
       "                             ...                        \n",
       "683              [Analytics, Banco de dados, Excel, Git]\n",
       "684    [Banco de dados, Dataviz, Excel, Git, Modelage...\n",
       "685                           [Analytics, Pacote Office]\n",
       "686                              [Analytics, Excel, Git]\n",
       "687    [Analytics, Banco de dados, Excel, Git, Pacote...\n",
       "Name: skills, Length: 688, dtype: object"
      ]
     },
     "execution_count": 75,
     "metadata": {},
     "output_type": "execute_result"
    }
   ],
   "source": [
    "df_vagas['skills']"
   ]
  },
  {
   "cell_type": "markdown",
   "metadata": {},
   "source": [
    "## Benefícios"
   ]
  },
  {
   "cell_type": "code",
   "execution_count": 12,
   "metadata": {},
   "outputs": [
    {
     "data": {
      "text/html": [
       "<div>\n",
       "<style scoped>\n",
       "    .dataframe tbody tr th:only-of-type {\n",
       "        vertical-align: middle;\n",
       "    }\n",
       "\n",
       "    .dataframe tbody tr th {\n",
       "        vertical-align: top;\n",
       "    }\n",
       "\n",
       "    .dataframe thead th {\n",
       "        text-align: right;\n",
       "    }\n",
       "</style>\n",
       "<table border=\"1\" class=\"dataframe\">\n",
       "  <thead>\n",
       "    <tr style=\"text-align: right;\">\n",
       "      <th></th>\n",
       "      <th>site_da_vaga</th>\n",
       "      <th>link_site</th>\n",
       "      <th>link_origem</th>\n",
       "      <th>data_publicacao</th>\n",
       "      <th>data_expiracao</th>\n",
       "      <th>data_coleta</th>\n",
       "      <th>posicao</th>\n",
       "      <th>senioridade</th>\n",
       "      <th>titulo_vaga</th>\n",
       "      <th>nome_empresa</th>\n",
       "      <th>cidade</th>\n",
       "      <th>estado</th>\n",
       "      <th>modalidade</th>\n",
       "      <th>contrato</th>\n",
       "      <th>regime</th>\n",
       "      <th>pcd</th>\n",
       "      <th>beneficios</th>\n",
       "      <th>codigo_vaga</th>\n",
       "      <th>descricao</th>\n",
       "    </tr>\n",
       "  </thead>\n",
       "  <tbody>\n",
       "    <tr>\n",
       "      <th>0</th>\n",
       "      <td>Vagas.com</td>\n",
       "      <td>https://www.vagas.com.br/vagas/v2597008/analis...</td>\n",
       "      <td>NaN</td>\n",
       "      <td>2023-12-29</td>\n",
       "      <td>NaN</td>\n",
       "      <td>2024-02-07</td>\n",
       "      <td>Analista de Dados</td>\n",
       "      <td>Pleno</td>\n",
       "      <td>Analista de Dados</td>\n",
       "      <td>Tangará</td>\n",
       "      <td>NaN</td>\n",
       "      <td>MG</td>\n",
       "      <td>Presencial</td>\n",
       "      <td>Efetivo</td>\n",
       "      <td>Regime CLT</td>\n",
       "      <td>Não informado</td>\n",
       "      <td>['Assistência médica', 'Assistência odontológi...</td>\n",
       "      <td>v2597008</td>\n",
       "      <td>Descrição\\nDescrição: Atividades:\\nRealizar at...</td>\n",
       "    </tr>\n",
       "    <tr>\n",
       "      <th>1</th>\n",
       "      <td>Vagas.com</td>\n",
       "      <td>https://www.vagas.com.br/vagas/v2590354/analis...</td>\n",
       "      <td>NaN</td>\n",
       "      <td>2023-12-07</td>\n",
       "      <td>2024-02-29</td>\n",
       "      <td>2024-02-07</td>\n",
       "      <td>Analista de Dados</td>\n",
       "      <td>Pleno</td>\n",
       "      <td>Analista de Dados Pleno</td>\n",
       "      <td>DHL Express</td>\n",
       "      <td>São Paulo</td>\n",
       "      <td>SP</td>\n",
       "      <td>Presencial</td>\n",
       "      <td>Efetivo</td>\n",
       "      <td>Regime CLT</td>\n",
       "      <td>Não informado</td>\n",
       "      <td>['Assistência médica', 'Assistência odontológi...</td>\n",
       "      <td>v2590354</td>\n",
       "      <td>Descrição\\nDescrição: SUAS ATIVIDADES:\\nColeta...</td>\n",
       "    </tr>\n",
       "    <tr>\n",
       "      <th>2</th>\n",
       "      <td>Vagas.com</td>\n",
       "      <td>https://www.vagas.com.br/vagas/v2604780/analis...</td>\n",
       "      <td>NaN</td>\n",
       "      <td>2024-01-23</td>\n",
       "      <td>2024-02-23</td>\n",
       "      <td>2024-02-07</td>\n",
       "      <td>Analista de Dados</td>\n",
       "      <td>Júnior/Trainee</td>\n",
       "      <td>Analista de Dados Júnior</td>\n",
       "      <td>JCDecaux do Brasil</td>\n",
       "      <td>São Paulo</td>\n",
       "      <td>SP</td>\n",
       "      <td>Presencial</td>\n",
       "      <td>Efetivo</td>\n",
       "      <td>Regime CLT</td>\n",
       "      <td>Não informado</td>\n",
       "      <td>['Assistência médica', 'Assistência odontológi...</td>\n",
       "      <td>v2604780</td>\n",
       "      <td>Descrição\\nDescrição: ▪ Minerar os dados e pro...</td>\n",
       "    </tr>\n",
       "    <tr>\n",
       "      <th>3</th>\n",
       "      <td>Vagas.com</td>\n",
       "      <td>https://www.vagas.com.br/vagas/v2607890/analis...</td>\n",
       "      <td>NaN</td>\n",
       "      <td>2024-02-01</td>\n",
       "      <td>2024-03-08</td>\n",
       "      <td>2024-02-07</td>\n",
       "      <td>Analista de Dados</td>\n",
       "      <td>Júnior/Trainee</td>\n",
       "      <td>Analista de Dados I</td>\n",
       "      <td>Hospital Pequeno Príncipe</td>\n",
       "      <td>Curitiba</td>\n",
       "      <td>PR</td>\n",
       "      <td>Presencial</td>\n",
       "      <td>Efetivo</td>\n",
       "      <td>Regime CLT</td>\n",
       "      <td>Não informado</td>\n",
       "      <td>['Assistência médica', 'Assistência odontológi...</td>\n",
       "      <td>v2607890</td>\n",
       "      <td>Descrição\\nDescrição: Analisar as necessidades...</td>\n",
       "    </tr>\n",
       "    <tr>\n",
       "      <th>4</th>\n",
       "      <td>Vagas.com</td>\n",
       "      <td>https://www.vagas.com.br/vagas/v2607407/analis...</td>\n",
       "      <td>NaN</td>\n",
       "      <td>2024-02-01</td>\n",
       "      <td>2024-02-07</td>\n",
       "      <td>2024-02-07</td>\n",
       "      <td>Analista de Dados</td>\n",
       "      <td>Pleno</td>\n",
       "      <td>Analista de Dados e Pesquisa Pleno - (Ênfase e...</td>\n",
       "      <td>Fundação Faculdade de Medicina</td>\n",
       "      <td>São Paulo</td>\n",
       "      <td>SP</td>\n",
       "      <td>Presencial</td>\n",
       "      <td>Efetivo</td>\n",
       "      <td>Regime CLT</td>\n",
       "      <td>Não informado</td>\n",
       "      <td>NaN</td>\n",
       "      <td>v2607407</td>\n",
       "      <td>Descrição\\nÁrea de Atuação: FFM - Saúde Digita...</td>\n",
       "    </tr>\n",
       "  </tbody>\n",
       "</table>\n",
       "</div>"
      ],
      "text/plain": [
       "  site_da_vaga                                          link_site  \\\n",
       "0    Vagas.com  https://www.vagas.com.br/vagas/v2597008/analis...   \n",
       "1    Vagas.com  https://www.vagas.com.br/vagas/v2590354/analis...   \n",
       "2    Vagas.com  https://www.vagas.com.br/vagas/v2604780/analis...   \n",
       "3    Vagas.com  https://www.vagas.com.br/vagas/v2607890/analis...   \n",
       "4    Vagas.com  https://www.vagas.com.br/vagas/v2607407/analis...   \n",
       "\n",
       "   link_origem data_publicacao data_expiracao data_coleta            posicao  \\\n",
       "0          NaN      2023-12-29            NaN  2024-02-07  Analista de Dados   \n",
       "1          NaN      2023-12-07     2024-02-29  2024-02-07  Analista de Dados   \n",
       "2          NaN      2024-01-23     2024-02-23  2024-02-07  Analista de Dados   \n",
       "3          NaN      2024-02-01     2024-03-08  2024-02-07  Analista de Dados   \n",
       "4          NaN      2024-02-01     2024-02-07  2024-02-07  Analista de Dados   \n",
       "\n",
       "      senioridade                                        titulo_vaga  \\\n",
       "0           Pleno                                  Analista de Dados   \n",
       "1           Pleno                            Analista de Dados Pleno   \n",
       "2  Júnior/Trainee                           Analista de Dados Júnior   \n",
       "3  Júnior/Trainee                                Analista de Dados I   \n",
       "4           Pleno  Analista de Dados e Pesquisa Pleno - (Ênfase e...   \n",
       "\n",
       "                     nome_empresa     cidade estado  modalidade contrato  \\\n",
       "0                         Tangará        NaN     MG  Presencial  Efetivo   \n",
       "1                     DHL Express  São Paulo     SP  Presencial  Efetivo   \n",
       "2              JCDecaux do Brasil  São Paulo     SP  Presencial  Efetivo   \n",
       "3       Hospital Pequeno Príncipe   Curitiba     PR  Presencial  Efetivo   \n",
       "4  Fundação Faculdade de Medicina  São Paulo     SP  Presencial  Efetivo   \n",
       "\n",
       "       regime            pcd  \\\n",
       "0  Regime CLT  Não informado   \n",
       "1  Regime CLT  Não informado   \n",
       "2  Regime CLT  Não informado   \n",
       "3  Regime CLT  Não informado   \n",
       "4  Regime CLT  Não informado   \n",
       "\n",
       "                                          beneficios codigo_vaga  \\\n",
       "0  ['Assistência médica', 'Assistência odontológi...    v2597008   \n",
       "1  ['Assistência médica', 'Assistência odontológi...    v2590354   \n",
       "2  ['Assistência médica', 'Assistência odontológi...    v2604780   \n",
       "3  ['Assistência médica', 'Assistência odontológi...    v2607890   \n",
       "4                                                NaN    v2607407   \n",
       "\n",
       "                                           descricao  \n",
       "0  Descrição\\nDescrição: Atividades:\\nRealizar at...  \n",
       "1  Descrição\\nDescrição: SUAS ATIVIDADES:\\nColeta...  \n",
       "2  Descrição\\nDescrição: ▪ Minerar os dados e pro...  \n",
       "3  Descrição\\nDescrição: Analisar as necessidades...  \n",
       "4  Descrição\\nÁrea de Atuação: FFM - Saúde Digita...  "
      ]
     },
     "execution_count": 12,
     "metadata": {},
     "output_type": "execute_result"
    }
   ],
   "source": [
    "df_vagas = pd.read_excel('../data/data_clean/vagas_vagas_clean.xlsx')\n",
    "df_vagas.head()"
   ]
  },
  {
   "cell_type": "code",
   "execution_count": 13,
   "metadata": {},
   "outputs": [
    {
     "name": "stdout",
     "output_type": "stream",
     "text": [
      "<class 'str'>\n"
     ]
    },
    {
     "data": {
      "text/plain": [
       "\"['Assistência médica', 'Assistência odontológica', 'Consignado', 'Horário flexível', 'Participação nos Lucros ou Resultados', 'Seguro de vida', 'Vale-alimentação', 'Vale-transporte']\""
      ]
     },
     "execution_count": 13,
     "metadata": {},
     "output_type": "execute_result"
    }
   ],
   "source": [
    "print(type(df_vagas.loc[0, 'beneficios']))\n",
    "df_vagas.loc[0, 'beneficios']"
   ]
  },
  {
   "cell_type": "code",
   "execution_count": 14,
   "metadata": {},
   "outputs": [],
   "source": [
    "unique_benefits = set()\n",
    "\n",
    "for _, row in df_vagas.iterrows():\n",
    "    \n",
    "    try:\n",
    "        lista_beneficios = re.findall(r'\\'(.*?)\\'', row['beneficios'])\n",
    "        \n",
    "        unique_benefits.update(lista_beneficios)\n",
    "    except:\n",
    "        continue"
   ]
  },
  {
   "cell_type": "code",
   "execution_count": 15,
   "metadata": {},
   "outputs": [
    {
     "data": {
      "text/plain": [
       "{'Assistência médica',\n",
       " 'Assistência odontológica',\n",
       " 'Auxílio academia',\n",
       " 'Auxílio combustível',\n",
       " 'Auxílio creche',\n",
       " 'Auxílio desenvolvimento',\n",
       " 'Auxílio estacionamento',\n",
       " 'Auxílio farmácia',\n",
       " 'Auxílio fretado',\n",
       " 'Bicicletário',\n",
       " 'Bolsa auxílio',\n",
       " 'Café da manhã',\n",
       " 'Cesta básica',\n",
       " 'Cesta de natal',\n",
       " 'Consignado',\n",
       " 'Convênio com empresas parceiras',\n",
       " 'Cooperativa de crédito',\n",
       " 'Desconto em produtos',\n",
       " 'Ginástica laboral',\n",
       " 'Horário flexível',\n",
       " 'Massoterapia',\n",
       " 'Participação nos Lucros ou Resultados',\n",
       " 'Plano de Aquisição de Ações',\n",
       " 'Previdência privada',\n",
       " 'Programa de remuneração variável',\n",
       " 'Programa de treinamentos',\n",
       " 'Refeitório',\n",
       " 'Restaurante interno',\n",
       " 'Sala de Jogos',\n",
       " 'Seguro de vida',\n",
       " 'Vale-alimentação',\n",
       " 'Vale-cultura',\n",
       " 'Vale-refeição',\n",
       " 'Vale-transporte'}"
      ]
     },
     "execution_count": 15,
     "metadata": {},
     "output_type": "execute_result"
    }
   ],
   "source": [
    "unique_benefits"
   ]
  },
  {
   "cell_type": "code",
   "execution_count": 16,
   "metadata": {},
   "outputs": [
    {
     "data": {
      "text/plain": [
       "['codigo_vaga',\n",
       " 'site_da_vaga',\n",
       " 'Assistência médica',\n",
       " 'Assistência odontológica',\n",
       " 'Auxílio academia',\n",
       " 'Auxílio combustível',\n",
       " 'Auxílio creche',\n",
       " 'Auxílio desenvolvimento',\n",
       " 'Auxílio estacionamento',\n",
       " 'Auxílio farmácia',\n",
       " 'Auxílio fretado',\n",
       " 'Bicicletário',\n",
       " 'Bolsa auxílio',\n",
       " 'Café da manhã',\n",
       " 'Cesta básica',\n",
       " 'Cesta de natal',\n",
       " 'Consignado',\n",
       " 'Convênio com empresas parceiras',\n",
       " 'Cooperativa de crédito',\n",
       " 'Desconto em produtos',\n",
       " 'Ginástica laboral',\n",
       " 'Horário flexível',\n",
       " 'Massoterapia',\n",
       " 'Participação nos Lucros ou Resultados',\n",
       " 'Plano de Aquisição de Ações',\n",
       " 'Previdência privada',\n",
       " 'Programa de remuneração variável',\n",
       " 'Programa de treinamentos',\n",
       " 'Refeitório',\n",
       " 'Restaurante interno',\n",
       " 'Sala de Jogos',\n",
       " 'Seguro de vida',\n",
       " 'Vale-alimentação',\n",
       " 'Vale-cultura',\n",
       " 'Vale-refeição',\n",
       " 'Vale-transporte']"
      ]
     },
     "execution_count": 16,
     "metadata": {},
     "output_type": "execute_result"
    }
   ],
   "source": [
    "unique_benefits = list(unique_benefits)\n",
    "unique_benefits.sort()\n",
    "\n",
    "colunas = ['codigo_vaga', 'site_da_vaga'] + unique_benefits\n",
    "colunas"
   ]
  },
  {
   "cell_type": "code",
   "execution_count": 17,
   "metadata": {},
   "outputs": [],
   "source": [
    "data_list = []\n",
    "\n",
    "for _, row in df_vagas.iterrows():\n",
    "    row_benefits = []\n",
    "\n",
    "    try:\n",
    "        for benefit in unique_benefits:\n",
    "            if benefit in row['beneficios']:\n",
    "                row_benefits.append(True)\n",
    "            else:\n",
    "                row_benefits.append(False)\n",
    "    except:\n",
    "        pass\n",
    "\n",
    "    row_benefits = [row['codigo_vaga'], row['site_da_vaga']] + row_benefits\n",
    "    \n",
    "    data_list.append(row_benefits)\n"
   ]
  },
  {
   "cell_type": "code",
   "execution_count": 18,
   "metadata": {},
   "outputs": [
    {
     "data": {
      "text/plain": [
       "688"
      ]
     },
     "execution_count": 18,
     "metadata": {},
     "output_type": "execute_result"
    }
   ],
   "source": [
    "len(data_list)"
   ]
  },
  {
   "cell_type": "code",
   "execution_count": 19,
   "metadata": {},
   "outputs": [
    {
     "data": {
      "text/plain": [
       "688"
      ]
     },
     "execution_count": 19,
     "metadata": {},
     "output_type": "execute_result"
    }
   ],
   "source": [
    "len(df_vagas)"
   ]
  },
  {
   "cell_type": "code",
   "execution_count": 20,
   "metadata": {},
   "outputs": [
    {
     "data": {
      "text/html": [
       "<div>\n",
       "<style scoped>\n",
       "    .dataframe tbody tr th:only-of-type {\n",
       "        vertical-align: middle;\n",
       "    }\n",
       "\n",
       "    .dataframe tbody tr th {\n",
       "        vertical-align: top;\n",
       "    }\n",
       "\n",
       "    .dataframe thead th {\n",
       "        text-align: right;\n",
       "    }\n",
       "</style>\n",
       "<table border=\"1\" class=\"dataframe\">\n",
       "  <thead>\n",
       "    <tr style=\"text-align: right;\">\n",
       "      <th></th>\n",
       "      <th>codigo_vaga</th>\n",
       "      <th>site_da_vaga</th>\n",
       "      <th>Assistência médica</th>\n",
       "      <th>Assistência odontológica</th>\n",
       "      <th>Auxílio academia</th>\n",
       "      <th>Auxílio combustível</th>\n",
       "      <th>Auxílio creche</th>\n",
       "      <th>Auxílio desenvolvimento</th>\n",
       "      <th>Auxílio estacionamento</th>\n",
       "      <th>Auxílio farmácia</th>\n",
       "      <th>...</th>\n",
       "      <th>Programa de remuneração variável</th>\n",
       "      <th>Programa de treinamentos</th>\n",
       "      <th>Refeitório</th>\n",
       "      <th>Restaurante interno</th>\n",
       "      <th>Sala de Jogos</th>\n",
       "      <th>Seguro de vida</th>\n",
       "      <th>Vale-alimentação</th>\n",
       "      <th>Vale-cultura</th>\n",
       "      <th>Vale-refeição</th>\n",
       "      <th>Vale-transporte</th>\n",
       "    </tr>\n",
       "  </thead>\n",
       "  <tbody>\n",
       "    <tr>\n",
       "      <th>0</th>\n",
       "      <td>v2597008</td>\n",
       "      <td>Vagas.com</td>\n",
       "      <td>True</td>\n",
       "      <td>True</td>\n",
       "      <td>False</td>\n",
       "      <td>False</td>\n",
       "      <td>False</td>\n",
       "      <td>False</td>\n",
       "      <td>False</td>\n",
       "      <td>False</td>\n",
       "      <td>...</td>\n",
       "      <td>False</td>\n",
       "      <td>False</td>\n",
       "      <td>False</td>\n",
       "      <td>False</td>\n",
       "      <td>False</td>\n",
       "      <td>True</td>\n",
       "      <td>True</td>\n",
       "      <td>False</td>\n",
       "      <td>False</td>\n",
       "      <td>True</td>\n",
       "    </tr>\n",
       "    <tr>\n",
       "      <th>1</th>\n",
       "      <td>v2590354</td>\n",
       "      <td>Vagas.com</td>\n",
       "      <td>True</td>\n",
       "      <td>True</td>\n",
       "      <td>False</td>\n",
       "      <td>False</td>\n",
       "      <td>False</td>\n",
       "      <td>False</td>\n",
       "      <td>False</td>\n",
       "      <td>False</td>\n",
       "      <td>...</td>\n",
       "      <td>False</td>\n",
       "      <td>True</td>\n",
       "      <td>False</td>\n",
       "      <td>False</td>\n",
       "      <td>True</td>\n",
       "      <td>True</td>\n",
       "      <td>True</td>\n",
       "      <td>False</td>\n",
       "      <td>True</td>\n",
       "      <td>True</td>\n",
       "    </tr>\n",
       "    <tr>\n",
       "      <th>2</th>\n",
       "      <td>v2604780</td>\n",
       "      <td>Vagas.com</td>\n",
       "      <td>True</td>\n",
       "      <td>True</td>\n",
       "      <td>True</td>\n",
       "      <td>False</td>\n",
       "      <td>False</td>\n",
       "      <td>False</td>\n",
       "      <td>False</td>\n",
       "      <td>True</td>\n",
       "      <td>...</td>\n",
       "      <td>False</td>\n",
       "      <td>False</td>\n",
       "      <td>False</td>\n",
       "      <td>False</td>\n",
       "      <td>False</td>\n",
       "      <td>True</td>\n",
       "      <td>False</td>\n",
       "      <td>False</td>\n",
       "      <td>True</td>\n",
       "      <td>True</td>\n",
       "    </tr>\n",
       "    <tr>\n",
       "      <th>3</th>\n",
       "      <td>v2607890</td>\n",
       "      <td>Vagas.com</td>\n",
       "      <td>True</td>\n",
       "      <td>True</td>\n",
       "      <td>False</td>\n",
       "      <td>False</td>\n",
       "      <td>False</td>\n",
       "      <td>False</td>\n",
       "      <td>False</td>\n",
       "      <td>False</td>\n",
       "      <td>...</td>\n",
       "      <td>False</td>\n",
       "      <td>False</td>\n",
       "      <td>True</td>\n",
       "      <td>False</td>\n",
       "      <td>False</td>\n",
       "      <td>True</td>\n",
       "      <td>True</td>\n",
       "      <td>False</td>\n",
       "      <td>False</td>\n",
       "      <td>True</td>\n",
       "    </tr>\n",
       "    <tr>\n",
       "      <th>4</th>\n",
       "      <td>v2607407</td>\n",
       "      <td>Vagas.com</td>\n",
       "      <td>None</td>\n",
       "      <td>None</td>\n",
       "      <td>None</td>\n",
       "      <td>None</td>\n",
       "      <td>None</td>\n",
       "      <td>None</td>\n",
       "      <td>None</td>\n",
       "      <td>None</td>\n",
       "      <td>...</td>\n",
       "      <td>None</td>\n",
       "      <td>None</td>\n",
       "      <td>None</td>\n",
       "      <td>None</td>\n",
       "      <td>None</td>\n",
       "      <td>None</td>\n",
       "      <td>None</td>\n",
       "      <td>None</td>\n",
       "      <td>None</td>\n",
       "      <td>None</td>\n",
       "    </tr>\n",
       "    <tr>\n",
       "      <th>...</th>\n",
       "      <td>...</td>\n",
       "      <td>...</td>\n",
       "      <td>...</td>\n",
       "      <td>...</td>\n",
       "      <td>...</td>\n",
       "      <td>...</td>\n",
       "      <td>...</td>\n",
       "      <td>...</td>\n",
       "      <td>...</td>\n",
       "      <td>...</td>\n",
       "      <td>...</td>\n",
       "      <td>...</td>\n",
       "      <td>...</td>\n",
       "      <td>...</td>\n",
       "      <td>...</td>\n",
       "      <td>...</td>\n",
       "      <td>...</td>\n",
       "      <td>...</td>\n",
       "      <td>...</td>\n",
       "      <td>...</td>\n",
       "      <td>...</td>\n",
       "    </tr>\n",
       "    <tr>\n",
       "      <th>683</th>\n",
       "      <td>v2604407</td>\n",
       "      <td>Vagas.com</td>\n",
       "      <td>True</td>\n",
       "      <td>True</td>\n",
       "      <td>False</td>\n",
       "      <td>False</td>\n",
       "      <td>False</td>\n",
       "      <td>False</td>\n",
       "      <td>False</td>\n",
       "      <td>True</td>\n",
       "      <td>...</td>\n",
       "      <td>False</td>\n",
       "      <td>False</td>\n",
       "      <td>False</td>\n",
       "      <td>False</td>\n",
       "      <td>False</td>\n",
       "      <td>True</td>\n",
       "      <td>True</td>\n",
       "      <td>False</td>\n",
       "      <td>True</td>\n",
       "      <td>False</td>\n",
       "    </tr>\n",
       "    <tr>\n",
       "      <th>684</th>\n",
       "      <td>v2604403</td>\n",
       "      <td>Vagas.com</td>\n",
       "      <td>True</td>\n",
       "      <td>True</td>\n",
       "      <td>False</td>\n",
       "      <td>False</td>\n",
       "      <td>False</td>\n",
       "      <td>False</td>\n",
       "      <td>False</td>\n",
       "      <td>True</td>\n",
       "      <td>...</td>\n",
       "      <td>False</td>\n",
       "      <td>False</td>\n",
       "      <td>False</td>\n",
       "      <td>False</td>\n",
       "      <td>False</td>\n",
       "      <td>True</td>\n",
       "      <td>True</td>\n",
       "      <td>False</td>\n",
       "      <td>True</td>\n",
       "      <td>False</td>\n",
       "    </tr>\n",
       "    <tr>\n",
       "      <th>685</th>\n",
       "      <td>v2591690</td>\n",
       "      <td>Vagas.com</td>\n",
       "      <td>True</td>\n",
       "      <td>True</td>\n",
       "      <td>False</td>\n",
       "      <td>False</td>\n",
       "      <td>True</td>\n",
       "      <td>False</td>\n",
       "      <td>False</td>\n",
       "      <td>True</td>\n",
       "      <td>...</td>\n",
       "      <td>False</td>\n",
       "      <td>False</td>\n",
       "      <td>False</td>\n",
       "      <td>True</td>\n",
       "      <td>False</td>\n",
       "      <td>True</td>\n",
       "      <td>True</td>\n",
       "      <td>False</td>\n",
       "      <td>False</td>\n",
       "      <td>True</td>\n",
       "    </tr>\n",
       "    <tr>\n",
       "      <th>686</th>\n",
       "      <td>v2604177</td>\n",
       "      <td>Vagas.com</td>\n",
       "      <td>True</td>\n",
       "      <td>True</td>\n",
       "      <td>False</td>\n",
       "      <td>False</td>\n",
       "      <td>False</td>\n",
       "      <td>False</td>\n",
       "      <td>False</td>\n",
       "      <td>True</td>\n",
       "      <td>...</td>\n",
       "      <td>False</td>\n",
       "      <td>False</td>\n",
       "      <td>False</td>\n",
       "      <td>False</td>\n",
       "      <td>False</td>\n",
       "      <td>True</td>\n",
       "      <td>True</td>\n",
       "      <td>False</td>\n",
       "      <td>True</td>\n",
       "      <td>False</td>\n",
       "    </tr>\n",
       "    <tr>\n",
       "      <th>687</th>\n",
       "      <td>v2604218</td>\n",
       "      <td>Vagas.com</td>\n",
       "      <td>True</td>\n",
       "      <td>True</td>\n",
       "      <td>False</td>\n",
       "      <td>False</td>\n",
       "      <td>False</td>\n",
       "      <td>False</td>\n",
       "      <td>False</td>\n",
       "      <td>False</td>\n",
       "      <td>...</td>\n",
       "      <td>False</td>\n",
       "      <td>False</td>\n",
       "      <td>True</td>\n",
       "      <td>False</td>\n",
       "      <td>False</td>\n",
       "      <td>True</td>\n",
       "      <td>True</td>\n",
       "      <td>False</td>\n",
       "      <td>False</td>\n",
       "      <td>True</td>\n",
       "    </tr>\n",
       "  </tbody>\n",
       "</table>\n",
       "<p>688 rows × 36 columns</p>\n",
       "</div>"
      ],
      "text/plain": [
       "    codigo_vaga site_da_vaga Assistência médica Assistência odontológica  \\\n",
       "0      v2597008    Vagas.com               True                     True   \n",
       "1      v2590354    Vagas.com               True                     True   \n",
       "2      v2604780    Vagas.com               True                     True   \n",
       "3      v2607890    Vagas.com               True                     True   \n",
       "4      v2607407    Vagas.com               None                     None   \n",
       "..          ...          ...                ...                      ...   \n",
       "683    v2604407    Vagas.com               True                     True   \n",
       "684    v2604403    Vagas.com               True                     True   \n",
       "685    v2591690    Vagas.com               True                     True   \n",
       "686    v2604177    Vagas.com               True                     True   \n",
       "687    v2604218    Vagas.com               True                     True   \n",
       "\n",
       "    Auxílio academia Auxílio combustível Auxílio creche  \\\n",
       "0              False               False          False   \n",
       "1              False               False          False   \n",
       "2               True               False          False   \n",
       "3              False               False          False   \n",
       "4               None                None           None   \n",
       "..               ...                 ...            ...   \n",
       "683            False               False          False   \n",
       "684            False               False          False   \n",
       "685            False               False           True   \n",
       "686            False               False          False   \n",
       "687            False               False          False   \n",
       "\n",
       "    Auxílio desenvolvimento Auxílio estacionamento Auxílio farmácia  ...  \\\n",
       "0                     False                  False            False  ...   \n",
       "1                     False                  False            False  ...   \n",
       "2                     False                  False             True  ...   \n",
       "3                     False                  False            False  ...   \n",
       "4                      None                   None             None  ...   \n",
       "..                      ...                    ...              ...  ...   \n",
       "683                   False                  False             True  ...   \n",
       "684                   False                  False             True  ...   \n",
       "685                   False                  False             True  ...   \n",
       "686                   False                  False             True  ...   \n",
       "687                   False                  False            False  ...   \n",
       "\n",
       "    Programa de remuneração variável Programa de treinamentos Refeitório  \\\n",
       "0                              False                    False      False   \n",
       "1                              False                     True      False   \n",
       "2                              False                    False      False   \n",
       "3                              False                    False       True   \n",
       "4                               None                     None       None   \n",
       "..                               ...                      ...        ...   \n",
       "683                            False                    False      False   \n",
       "684                            False                    False      False   \n",
       "685                            False                    False      False   \n",
       "686                            False                    False      False   \n",
       "687                            False                    False       True   \n",
       "\n",
       "    Restaurante interno Sala de Jogos Seguro de vida Vale-alimentação  \\\n",
       "0                 False         False           True             True   \n",
       "1                 False          True           True             True   \n",
       "2                 False         False           True            False   \n",
       "3                 False         False           True             True   \n",
       "4                  None          None           None             None   \n",
       "..                  ...           ...            ...              ...   \n",
       "683               False         False           True             True   \n",
       "684               False         False           True             True   \n",
       "685                True         False           True             True   \n",
       "686               False         False           True             True   \n",
       "687               False         False           True             True   \n",
       "\n",
       "    Vale-cultura Vale-refeição Vale-transporte  \n",
       "0          False         False            True  \n",
       "1          False          True            True  \n",
       "2          False          True            True  \n",
       "3          False         False            True  \n",
       "4           None          None            None  \n",
       "..           ...           ...             ...  \n",
       "683        False          True           False  \n",
       "684        False          True           False  \n",
       "685        False         False            True  \n",
       "686        False          True           False  \n",
       "687        False         False            True  \n",
       "\n",
       "[688 rows x 36 columns]"
      ]
     },
     "execution_count": 20,
     "metadata": {},
     "output_type": "execute_result"
    }
   ],
   "source": [
    "df_one_hot_benefits = pd.DataFrame(data=data_list, columns=colunas)\n",
    "df_one_hot_benefits"
   ]
  },
  {
   "cell_type": "code",
   "execution_count": 21,
   "metadata": {},
   "outputs": [
    {
     "data": {
      "text/plain": [
       "Assistência médica                       496\n",
       "Assistência odontológica                 455\n",
       "Auxílio academia                         156\n",
       "Auxílio combustível                       43\n",
       "Auxílio creche                           105\n",
       "Auxílio desenvolvimento                   23\n",
       "Auxílio estacionamento                    34\n",
       "Auxílio farmácia                          86\n",
       "Auxílio fretado                           63\n",
       "Bicicletário                              26\n",
       "Bolsa auxílio                             43\n",
       "Café da manhã                             65\n",
       "Cesta básica                              18\n",
       "Cesta de natal                            64\n",
       "Consignado                                52\n",
       "Convênio com empresas parceiras          113\n",
       "Cooperativa de crédito                     4\n",
       "Desconto em produtos                      71\n",
       "Ginástica laboral                         28\n",
       "Horário flexível                          49\n",
       "Massoterapia                              11\n",
       "Participação nos Lucros ou Resultados    219\n",
       "Plano de Aquisição de Ações                3\n",
       "Previdência privada                      116\n",
       "Programa de remuneração variável          13\n",
       "Programa de treinamentos                  77\n",
       "Refeitório                               105\n",
       "Restaurante interno                       79\n",
       "Sala de Jogos                             17\n",
       "Seguro de vida                           431\n",
       "Vale-alimentação                         297\n",
       "Vale-cultura                               3\n",
       "Vale-refeição                            325\n",
       "Vale-transporte                          389\n",
       "dtype: object"
      ]
     },
     "execution_count": 21,
     "metadata": {},
     "output_type": "execute_result"
    }
   ],
   "source": [
    "df_one_hot_benefits.drop(['codigo_vaga', 'site_da_vaga'], axis=1).sum()"
   ]
  },
  {
   "cell_type": "code",
   "execution_count": 22,
   "metadata": {},
   "outputs": [
    {
     "data": {
      "text/plain": [
       "Index(['codigo_vaga', 'site_da_vaga', 'Assistência médica',\n",
       "       'Assistência odontológica', 'Auxílio academia', 'Auxílio combustível',\n",
       "       'Auxílio creche', 'Auxílio desenvolvimento', 'Auxílio estacionamento',\n",
       "       'Auxílio farmácia', 'Auxílio fretado', 'Bicicletário', 'Bolsa auxílio',\n",
       "       'Café da manhã', 'Cesta básica', 'Cesta de natal', 'Consignado',\n",
       "       'Convênio com empresas parceiras', 'Cooperativa de crédito',\n",
       "       'Desconto em produtos', 'Ginástica laboral', 'Horário flexível',\n",
       "       'Massoterapia', 'Participação nos Lucros ou Resultados',\n",
       "       'Plano de Aquisição de Ações', 'Previdência privada',\n",
       "       'Programa de remuneração variável', 'Programa de treinamentos',\n",
       "       'Refeitório', 'Restaurante interno', 'Sala de Jogos', 'Seguro de vida',\n",
       "       'Vale-alimentação', 'Vale-cultura', 'Vale-refeição', 'Vale-transporte'],\n",
       "      dtype='object')"
      ]
     },
     "execution_count": 22,
     "metadata": {},
     "output_type": "execute_result"
    }
   ],
   "source": [
    "df_one_hot_benefits.columns"
   ]
  },
  {
   "cell_type": "code",
   "execution_count": 23,
   "metadata": {},
   "outputs": [
    {
     "data": {
      "text/plain": [
       "0      1\n",
       "1      1\n",
       "2      1\n",
       "3      1\n",
       "4      0\n",
       "      ..\n",
       "683    1\n",
       "684    1\n",
       "685    2\n",
       "686    1\n",
       "687    1\n",
       "Length: 688, dtype: object"
      ]
     },
     "execution_count": 23,
     "metadata": {},
     "output_type": "execute_result"
    }
   ],
   "source": [
    "selected_columns = ['Auxílio creche', 'Auxílio academia', 'Vale-alimentação']\n",
    "\n",
    "df_one_hot_benefits.loc[:, selected_columns].sum(axis=1)"
   ]
  },
  {
   "cell_type": "code",
   "execution_count": 24,
   "metadata": {},
   "outputs": [
    {
     "data": {
      "text/plain": [
       "Index([ 23,  33,  50,  78,  86, 124, 136, 158, 171, 173, 190, 194, 237, 241,\n",
       "       265, 297, 322, 377, 429, 483, 538, 592, 604, 615, 632],\n",
       "      dtype='int64')"
      ]
     },
     "execution_count": 24,
     "metadata": {},
     "output_type": "execute_result"
    }
   ],
   "source": [
    "benefit_count_series = df_one_hot_benefits.loc[:, selected_columns].sum(axis=1)\n",
    "\n",
    "match_vaga_indices = benefit_count_series[ benefit_count_series.values == len(selected_columns) ].index\n",
    "match_vaga_indices"
   ]
  },
  {
   "cell_type": "code",
   "execution_count": 25,
   "metadata": {},
   "outputs": [
    {
     "data": {
      "text/html": [
       "<div>\n",
       "<style scoped>\n",
       "    .dataframe tbody tr th:only-of-type {\n",
       "        vertical-align: middle;\n",
       "    }\n",
       "\n",
       "    .dataframe tbody tr th {\n",
       "        vertical-align: top;\n",
       "    }\n",
       "\n",
       "    .dataframe thead th {\n",
       "        text-align: right;\n",
       "    }\n",
       "</style>\n",
       "<table border=\"1\" class=\"dataframe\">\n",
       "  <thead>\n",
       "    <tr style=\"text-align: right;\">\n",
       "      <th></th>\n",
       "      <th>site_da_vaga</th>\n",
       "      <th>link_site</th>\n",
       "      <th>link_origem</th>\n",
       "      <th>data_publicacao</th>\n",
       "      <th>data_expiracao</th>\n",
       "      <th>data_coleta</th>\n",
       "      <th>posicao</th>\n",
       "      <th>senioridade</th>\n",
       "      <th>titulo_vaga</th>\n",
       "      <th>nome_empresa</th>\n",
       "      <th>cidade</th>\n",
       "      <th>estado</th>\n",
       "      <th>modalidade</th>\n",
       "      <th>contrato</th>\n",
       "      <th>regime</th>\n",
       "      <th>pcd</th>\n",
       "      <th>beneficios</th>\n",
       "      <th>codigo_vaga</th>\n",
       "      <th>descricao</th>\n",
       "    </tr>\n",
       "  </thead>\n",
       "  <tbody>\n",
       "    <tr>\n",
       "      <th>23</th>\n",
       "      <td>Vagas.com</td>\n",
       "      <td>https://www.vagas.com.br/vagas/v2599505/analis...</td>\n",
       "      <td>NaN</td>\n",
       "      <td>2024-01-08</td>\n",
       "      <td>NaN</td>\n",
       "      <td>2024-02-07</td>\n",
       "      <td>Analista de Dados</td>\n",
       "      <td>Sênior</td>\n",
       "      <td>Analista Sênior de Inventário</td>\n",
       "      <td>Mercado Livre</td>\n",
       "      <td>NaN</td>\n",
       "      <td>SP</td>\n",
       "      <td>Presencial</td>\n",
       "      <td>Efetivo</td>\n",
       "      <td>Regime CLT</td>\n",
       "      <td>Não informado</td>\n",
       "      <td>['Assistência médica', 'Assistência odontológi...</td>\n",
       "      <td>v2599505</td>\n",
       "      <td>Descrição\\nDescrição: Quais são os desafios da...</td>\n",
       "    </tr>\n",
       "    <tr>\n",
       "      <th>33</th>\n",
       "      <td>Vagas.com</td>\n",
       "      <td>https://www.vagas.com.br/vagas/v2602050/analis...</td>\n",
       "      <td>NaN</td>\n",
       "      <td>2024-02-01</td>\n",
       "      <td>2024-02-16</td>\n",
       "      <td>2024-02-07</td>\n",
       "      <td>Analista de Dados</td>\n",
       "      <td>Júnior/Trainee</td>\n",
       "      <td>Analista de Eventos Jr.</td>\n",
       "      <td>Editora Globo</td>\n",
       "      <td>São Paulo</td>\n",
       "      <td>SP</td>\n",
       "      <td>Híbrido</td>\n",
       "      <td>Efetivo</td>\n",
       "      <td>Regime CLT</td>\n",
       "      <td>Não informado</td>\n",
       "      <td>['Assistência médica', 'Assistência odontológi...</td>\n",
       "      <td>v2602050</td>\n",
       "      <td>Descrição\\nDescrição: Somos um grupo de comuni...</td>\n",
       "    </tr>\n",
       "    <tr>\n",
       "      <th>50</th>\n",
       "      <td>Vagas.com</td>\n",
       "      <td>https://www.vagas.com.br/vagas/v2604894/analis...</td>\n",
       "      <td>NaN</td>\n",
       "      <td>2024-01-23</td>\n",
       "      <td>NaN</td>\n",
       "      <td>2024-02-07</td>\n",
       "      <td>Analista de Dados</td>\n",
       "      <td>Pleno</td>\n",
       "      <td>Analista Contabil II</td>\n",
       "      <td>Odontoprev</td>\n",
       "      <td>NaN</td>\n",
       "      <td>SP</td>\n",
       "      <td>Presencial</td>\n",
       "      <td>Efetivo</td>\n",
       "      <td>Regime CLT</td>\n",
       "      <td>Não informado</td>\n",
       "      <td>['Assistência médica', 'Assistência odontológi...</td>\n",
       "      <td>v2604894</td>\n",
       "      <td>Descrição\\nDescrição: Fechamento contábil: O A...</td>\n",
       "    </tr>\n",
       "    <tr>\n",
       "      <th>78</th>\n",
       "      <td>Vagas.com</td>\n",
       "      <td>https://www.vagas.com.br/vagas/v2605352/analis...</td>\n",
       "      <td>NaN</td>\n",
       "      <td>2024-01-24</td>\n",
       "      <td>2024-02-25</td>\n",
       "      <td>2024-02-07</td>\n",
       "      <td>Analista de Dados</td>\n",
       "      <td>Sênior</td>\n",
       "      <td>Analista Sr. Financeiro</td>\n",
       "      <td>Confidencial</td>\n",
       "      <td>São Paulo</td>\n",
       "      <td>SP</td>\n",
       "      <td>Presencial</td>\n",
       "      <td>Efetivo</td>\n",
       "      <td>Regime CLT</td>\n",
       "      <td>Não informado</td>\n",
       "      <td>['Assistência médica', 'Assistência odontológi...</td>\n",
       "      <td>v2605352</td>\n",
       "      <td>Descrição\\nDescrição:  Pré-requisitos: \\nForma...</td>\n",
       "    </tr>\n",
       "    <tr>\n",
       "      <th>86</th>\n",
       "      <td>Vagas.com</td>\n",
       "      <td>https://www.vagas.com.br/vagas/v2591353/analis...</td>\n",
       "      <td>NaN</td>\n",
       "      <td>2023-12-11</td>\n",
       "      <td>NaN</td>\n",
       "      <td>2024-02-07</td>\n",
       "      <td>Analista de Dados</td>\n",
       "      <td>Pleno</td>\n",
       "      <td>Analista Administrativo Pleno</td>\n",
       "      <td>Tetra Tech América do Sul</td>\n",
       "      <td>NaN</td>\n",
       "      <td>MG</td>\n",
       "      <td>Híbrido</td>\n",
       "      <td>Efetivo</td>\n",
       "      <td>Regime CLT</td>\n",
       "      <td>Sim</td>\n",
       "      <td>['Assistência médica', 'Assistência odontológi...</td>\n",
       "      <td>v2591353</td>\n",
       "      <td>Descrição\\nDescrição: Venha fazer parte do nos...</td>\n",
       "    </tr>\n",
       "    <tr>\n",
       "      <th>124</th>\n",
       "      <td>Vagas.com</td>\n",
       "      <td>https://www.vagas.com.br/vagas/v2591621/analis...</td>\n",
       "      <td>NaN</td>\n",
       "      <td>2023-12-12</td>\n",
       "      <td>2024-02-12</td>\n",
       "      <td>2024-02-07</td>\n",
       "      <td>Analista de Dados</td>\n",
       "      <td>Sênior</td>\n",
       "      <td>Analista de Compliance Sr</td>\n",
       "      <td>Ferroport</td>\n",
       "      <td>Rio de Janeiro</td>\n",
       "      <td>RJ</td>\n",
       "      <td>Presencial</td>\n",
       "      <td>Efetivo</td>\n",
       "      <td>Regime CLT</td>\n",
       "      <td>Não informado</td>\n",
       "      <td>['Assistência médica', 'Assistência odontológi...</td>\n",
       "      <td>v2591621</td>\n",
       "      <td>Descrição\\nDescrição: ComplianceConduzir inves...</td>\n",
       "    </tr>\n",
       "    <tr>\n",
       "      <th>136</th>\n",
       "      <td>Vagas.com</td>\n",
       "      <td>https://www.vagas.com.br/vagas/v2607273/10462-...</td>\n",
       "      <td>NaN</td>\n",
       "      <td>2024-01-31</td>\n",
       "      <td>2024-03-02</td>\n",
       "      <td>2024-02-07</td>\n",
       "      <td>Analista de Dados</td>\n",
       "      <td>Sênior</td>\n",
       "      <td>10462 - Analista Pricing Sr</td>\n",
       "      <td>Talent Group</td>\n",
       "      <td>São Paulo</td>\n",
       "      <td>SP</td>\n",
       "      <td>Presencial</td>\n",
       "      <td>Efetivo</td>\n",
       "      <td>Regime CLT</td>\n",
       "      <td>Não informado</td>\n",
       "      <td>['Assistência médica', 'Assistência odontológi...</td>\n",
       "      <td>v2607273</td>\n",
       "      <td>Descrição\\nDescrição: Missão da Área: Responsá...</td>\n",
       "    </tr>\n",
       "    <tr>\n",
       "      <th>158</th>\n",
       "      <td>Vagas.com</td>\n",
       "      <td>https://www.vagas.com.br/vagas/v2606689/analis...</td>\n",
       "      <td>NaN</td>\n",
       "      <td>2024-01-30</td>\n",
       "      <td>2024-03-01</td>\n",
       "      <td>2024-02-07</td>\n",
       "      <td>Analista de Dados</td>\n",
       "      <td>Pleno</td>\n",
       "      <td>Analista Pl Infraestrutura</td>\n",
       "      <td>Elera Renováveis</td>\n",
       "      <td>São Paulo</td>\n",
       "      <td>SP</td>\n",
       "      <td>Presencial</td>\n",
       "      <td>Efetivo</td>\n",
       "      <td>Regime CLT</td>\n",
       "      <td>Não informado</td>\n",
       "      <td>['Assistência médica', 'Assistência odontológi...</td>\n",
       "      <td>v2606689</td>\n",
       "      <td>Descrição\\nDescrição: Com mais de 20 anos de a...</td>\n",
       "    </tr>\n",
       "    <tr>\n",
       "      <th>171</th>\n",
       "      <td>Vagas.com</td>\n",
       "      <td>https://www.vagas.com.br/vagas/v2609524/analis...</td>\n",
       "      <td>NaN</td>\n",
       "      <td>2024-02-06</td>\n",
       "      <td>2024-03-25</td>\n",
       "      <td>2024-02-07</td>\n",
       "      <td>Analista de Dados</td>\n",
       "      <td>Pleno</td>\n",
       "      <td>Analista de Investimentos e Finanças Pleno</td>\n",
       "      <td>State Grid Brazil Holding</td>\n",
       "      <td>Rio de Janeiro</td>\n",
       "      <td>RJ</td>\n",
       "      <td>Presencial</td>\n",
       "      <td>Efetivo</td>\n",
       "      <td>Regime CLT</td>\n",
       "      <td>Não informado</td>\n",
       "      <td>['Assistência médica', 'Assistência odontológi...</td>\n",
       "      <td>v2609524</td>\n",
       "      <td>Descrição\\nDescrição: Estamos contratando um A...</td>\n",
       "    </tr>\n",
       "    <tr>\n",
       "      <th>173</th>\n",
       "      <td>Vagas.com</td>\n",
       "      <td>https://www.vagas.com.br/vagas/v2603394/analis...</td>\n",
       "      <td>NaN</td>\n",
       "      <td>2024-01-18</td>\n",
       "      <td>2024-02-18</td>\n",
       "      <td>2024-02-07</td>\n",
       "      <td>Analista de Dados</td>\n",
       "      <td>Sênior</td>\n",
       "      <td>Analista Sr - Contrato Determinado</td>\n",
       "      <td>TMF Group</td>\n",
       "      <td>Barueri</td>\n",
       "      <td>SP</td>\n",
       "      <td>Presencial</td>\n",
       "      <td>Temporário</td>\n",
       "      <td>Temporário</td>\n",
       "      <td>Não informado</td>\n",
       "      <td>['Assistência médica', 'Assistência odontológi...</td>\n",
       "      <td>v2603394</td>\n",
       "      <td>Descrição\\nDescrição: Analista Sr - Contrato d...</td>\n",
       "    </tr>\n",
       "    <tr>\n",
       "      <th>190</th>\n",
       "      <td>Vagas.com</td>\n",
       "      <td>https://www.vagas.com.br/vagas/v2605353/analis...</td>\n",
       "      <td>NaN</td>\n",
       "      <td>2024-01-24</td>\n",
       "      <td>2024-02-25</td>\n",
       "      <td>2024-02-07</td>\n",
       "      <td>Analista de Dados</td>\n",
       "      <td>Sênior</td>\n",
       "      <td>Analista Sr. Estudos de Mercado</td>\n",
       "      <td>Elera Renováveis</td>\n",
       "      <td>São Paulo</td>\n",
       "      <td>SP</td>\n",
       "      <td>Presencial</td>\n",
       "      <td>Efetivo</td>\n",
       "      <td>Regime CLT</td>\n",
       "      <td>Não informado</td>\n",
       "      <td>['Assistência médica', 'Assistência odontológi...</td>\n",
       "      <td>v2605353</td>\n",
       "      <td>Descrição\\nDescrição: Pré-requisitos:•\\tFormaç...</td>\n",
       "    </tr>\n",
       "    <tr>\n",
       "      <th>194</th>\n",
       "      <td>Vagas.com</td>\n",
       "      <td>https://www.vagas.com.br/vagas/v2598227/analis...</td>\n",
       "      <td>NaN</td>\n",
       "      <td>2024-01-04</td>\n",
       "      <td>2024-02-29</td>\n",
       "      <td>2024-02-07</td>\n",
       "      <td>Analista de Dados</td>\n",
       "      <td>Sênior</td>\n",
       "      <td>Analista de Segurança da Informação Sênior</td>\n",
       "      <td>Grupo Iter</td>\n",
       "      <td>Rio de Janeiro</td>\n",
       "      <td>RJ</td>\n",
       "      <td>Presencial</td>\n",
       "      <td>Efetivo</td>\n",
       "      <td>Regime CLT</td>\n",
       "      <td>Não informado</td>\n",
       "      <td>['Assistência médica', 'Assistência odontológi...</td>\n",
       "      <td>v2598227</td>\n",
       "      <td>Descrição\\nDescrição: \\nAssegurar que as vulne...</td>\n",
       "    </tr>\n",
       "    <tr>\n",
       "      <th>237</th>\n",
       "      <td>Vagas.com</td>\n",
       "      <td>https://www.vagas.com.br/vagas/v2590898/execut...</td>\n",
       "      <td>NaN</td>\n",
       "      <td>2023-12-08</td>\n",
       "      <td>2024-02-12</td>\n",
       "      <td>2024-02-07</td>\n",
       "      <td>Analista de Dados</td>\n",
       "      <td>Pleno</td>\n",
       "      <td>Executivo de Contas Pleno</td>\n",
       "      <td>DHL Express</td>\n",
       "      <td>São José dos Campos</td>\n",
       "      <td>SP</td>\n",
       "      <td>Presencial</td>\n",
       "      <td>Efetivo</td>\n",
       "      <td>Regime CLT</td>\n",
       "      <td>Não informado</td>\n",
       "      <td>['Assistência médica', 'Assistência odontológi...</td>\n",
       "      <td>v2590898</td>\n",
       "      <td>Descrição\\nDescrição: SUAS ATIVIDADES: \\nAtuar...</td>\n",
       "    </tr>\n",
       "    <tr>\n",
       "      <th>241</th>\n",
       "      <td>Vagas.com</td>\n",
       "      <td>https://www.vagas.com.br/vagas/v2609455/analis...</td>\n",
       "      <td>NaN</td>\n",
       "      <td>2024-02-06</td>\n",
       "      <td>2024-03-06</td>\n",
       "      <td>2024-02-07</td>\n",
       "      <td>Analista de Dados</td>\n",
       "      <td>Pleno</td>\n",
       "      <td>Analista de Gestão de Riscos Sênior</td>\n",
       "      <td>Icatu Seguros</td>\n",
       "      <td>Rio de Janeiro</td>\n",
       "      <td>RJ</td>\n",
       "      <td>Presencial</td>\n",
       "      <td>Efetivo</td>\n",
       "      <td>Regime CLT</td>\n",
       "      <td>Não informado</td>\n",
       "      <td>['Assistência médica', 'Assistência odontológi...</td>\n",
       "      <td>v2609455</td>\n",
       "      <td>Descrição\\nDescrição: Formação acadêmica:• Ens...</td>\n",
       "    </tr>\n",
       "    <tr>\n",
       "      <th>265</th>\n",
       "      <td>Vagas.com</td>\n",
       "      <td>https://www.vagas.com.br/vagas/v2605068/analis...</td>\n",
       "      <td>NaN</td>\n",
       "      <td>2024-01-24</td>\n",
       "      <td>NaN</td>\n",
       "      <td>2024-02-07</td>\n",
       "      <td>Analista de Dados</td>\n",
       "      <td>Sênior</td>\n",
       "      <td>Analista Logistica Semi Senior (Lastmile)</td>\n",
       "      <td>Confidencial</td>\n",
       "      <td>NaN</td>\n",
       "      <td>SP</td>\n",
       "      <td>Presencial</td>\n",
       "      <td>Efetivo</td>\n",
       "      <td>Regime CLT</td>\n",
       "      <td>Não informado</td>\n",
       "      <td>['Assistência médica', 'Assistência odontológi...</td>\n",
       "      <td>v2605068</td>\n",
       "      <td>Descrição\\nDescrição: Estamos em busca de um A...</td>\n",
       "    </tr>\n",
       "    <tr>\n",
       "      <th>297</th>\n",
       "      <td>Vagas.com</td>\n",
       "      <td>https://www.vagas.com.br/vagas/v2600688/analis...</td>\n",
       "      <td>NaN</td>\n",
       "      <td>2024-01-11</td>\n",
       "      <td>2024-02-11</td>\n",
       "      <td>2024-02-07</td>\n",
       "      <td>Analista de Dados</td>\n",
       "      <td>Pleno</td>\n",
       "      <td>Analista Financeiro - Contas a Pagar</td>\n",
       "      <td>Confidencial</td>\n",
       "      <td>Rio de Janeiro</td>\n",
       "      <td>RJ</td>\n",
       "      <td>Presencial</td>\n",
       "      <td>Efetivo</td>\n",
       "      <td>Regime CLT</td>\n",
       "      <td>Não informado</td>\n",
       "      <td>['Assistência médica', 'Assistência odontológi...</td>\n",
       "      <td>v2600688</td>\n",
       "      <td>Descrição\\nDescrição: Analista Financeiro - Co...</td>\n",
       "    </tr>\n",
       "    <tr>\n",
       "      <th>322</th>\n",
       "      <td>Vagas.com</td>\n",
       "      <td>https://www.vagas.com.br/vagas/v2603008/analis...</td>\n",
       "      <td>NaN</td>\n",
       "      <td>2024-01-18</td>\n",
       "      <td>NaN</td>\n",
       "      <td>2024-02-07</td>\n",
       "      <td>Analista de Dados</td>\n",
       "      <td>Auxiliar/Operacional</td>\n",
       "      <td>Analista de Inteligência Clínico Operacional I...</td>\n",
       "      <td>Odontoprev</td>\n",
       "      <td>NaN</td>\n",
       "      <td>SP</td>\n",
       "      <td>Presencial</td>\n",
       "      <td>Efetivo</td>\n",
       "      <td>Regime CLT</td>\n",
       "      <td>Não informado</td>\n",
       "      <td>['Assistência médica', 'Assistência odontológi...</td>\n",
       "      <td>v2603008</td>\n",
       "      <td>Descrição\\nDescrição: Estamos em busca de um A...</td>\n",
       "    </tr>\n",
       "    <tr>\n",
       "      <th>377</th>\n",
       "      <td>Vagas.com</td>\n",
       "      <td>https://www.vagas.com.br/vagas/v2607155/consul...</td>\n",
       "      <td>NaN</td>\n",
       "      <td>2024-01-31</td>\n",
       "      <td>NaN</td>\n",
       "      <td>2024-02-07</td>\n",
       "      <td>Engenharia de Dados</td>\n",
       "      <td>Sênior</td>\n",
       "      <td>Consultor(a) de Analise de Dados</td>\n",
       "      <td>SulAmérica</td>\n",
       "      <td>NaN</td>\n",
       "      <td>SP</td>\n",
       "      <td>Presencial</td>\n",
       "      <td>Efetivo</td>\n",
       "      <td>Regime CLT</td>\n",
       "      <td>Não informado</td>\n",
       "      <td>['Assistência médica', 'Assistência odontológi...</td>\n",
       "      <td>v2607155</td>\n",
       "      <td>Descrição\\nDescrição: Oportunidade para atuar ...</td>\n",
       "    </tr>\n",
       "    <tr>\n",
       "      <th>429</th>\n",
       "      <td>Vagas.com</td>\n",
       "      <td>https://www.vagas.com.br/vagas/v2599271/estagi...</td>\n",
       "      <td>NaN</td>\n",
       "      <td>2024-01-08</td>\n",
       "      <td>2024-02-29</td>\n",
       "      <td>2024-02-07</td>\n",
       "      <td>Engenharia de Dados</td>\n",
       "      <td>Estágio</td>\n",
       "      <td>Estagiário(a) de Engenharia de Software (Híbrido)</td>\n",
       "      <td>Recovery</td>\n",
       "      <td>São Paulo</td>\n",
       "      <td>SP</td>\n",
       "      <td>Híbrido</td>\n",
       "      <td>Estágio</td>\n",
       "      <td>Estágio</td>\n",
       "      <td>Sim</td>\n",
       "      <td>['Assistência médica', 'Assistência odontológi...</td>\n",
       "      <td>v2599271</td>\n",
       "      <td>Descrição\\nDescrição: Na Recovery o(a) Estagiá...</td>\n",
       "    </tr>\n",
       "    <tr>\n",
       "      <th>483</th>\n",
       "      <td>Vagas.com</td>\n",
       "      <td>https://www.vagas.com.br/vagas/v2603008/analis...</td>\n",
       "      <td>NaN</td>\n",
       "      <td>2024-01-18</td>\n",
       "      <td>NaN</td>\n",
       "      <td>2024-02-07</td>\n",
       "      <td>Engenharia de Dados</td>\n",
       "      <td>Auxiliar/Operacional</td>\n",
       "      <td>Analista de Inteligência Clínico Operacional I...</td>\n",
       "      <td>Odontoprev</td>\n",
       "      <td>NaN</td>\n",
       "      <td>SP</td>\n",
       "      <td>Presencial</td>\n",
       "      <td>Efetivo</td>\n",
       "      <td>Regime CLT</td>\n",
       "      <td>Não informado</td>\n",
       "      <td>['Assistência médica', 'Assistência odontológi...</td>\n",
       "      <td>v2603008</td>\n",
       "      <td>Descrição\\nDescrição: Estamos em busca de um A...</td>\n",
       "    </tr>\n",
       "    <tr>\n",
       "      <th>538</th>\n",
       "      <td>Vagas.com</td>\n",
       "      <td>https://www.vagas.com.br/vagas/v2605352/analis...</td>\n",
       "      <td>NaN</td>\n",
       "      <td>2024-01-24</td>\n",
       "      <td>2024-02-25</td>\n",
       "      <td>2024-02-07</td>\n",
       "      <td>Engenharia de Dados</td>\n",
       "      <td>Sênior</td>\n",
       "      <td>Analista Sr. Financeiro</td>\n",
       "      <td>Confidencial</td>\n",
       "      <td>São Paulo</td>\n",
       "      <td>SP</td>\n",
       "      <td>Presencial</td>\n",
       "      <td>Efetivo</td>\n",
       "      <td>Regime CLT</td>\n",
       "      <td>Não informado</td>\n",
       "      <td>['Assistência médica', 'Assistência odontológi...</td>\n",
       "      <td>v2605352</td>\n",
       "      <td>Descrição\\nDescrição:  Pré-requisitos: \\nForma...</td>\n",
       "    </tr>\n",
       "    <tr>\n",
       "      <th>592</th>\n",
       "      <td>Vagas.com</td>\n",
       "      <td>https://www.vagas.com.br/vagas/v2598227/analis...</td>\n",
       "      <td>NaN</td>\n",
       "      <td>2024-01-04</td>\n",
       "      <td>2024-02-29</td>\n",
       "      <td>2024-02-07</td>\n",
       "      <td>Engenharia de Dados</td>\n",
       "      <td>Sênior</td>\n",
       "      <td>Analista de Segurança da Informação Sênior</td>\n",
       "      <td>Grupo Iter</td>\n",
       "      <td>Rio de Janeiro</td>\n",
       "      <td>RJ</td>\n",
       "      <td>Presencial</td>\n",
       "      <td>Efetivo</td>\n",
       "      <td>Regime CLT</td>\n",
       "      <td>Não informado</td>\n",
       "      <td>['Assistência médica', 'Assistência odontológi...</td>\n",
       "      <td>v2598227</td>\n",
       "      <td>Descrição\\nDescrição: \\nAssegurar que as vulne...</td>\n",
       "    </tr>\n",
       "    <tr>\n",
       "      <th>604</th>\n",
       "      <td>Vagas.com</td>\n",
       "      <td>https://www.vagas.com.br/vagas/v2591353/analis...</td>\n",
       "      <td>NaN</td>\n",
       "      <td>2023-12-11</td>\n",
       "      <td>NaN</td>\n",
       "      <td>2024-02-07</td>\n",
       "      <td>Engenharia de Dados</td>\n",
       "      <td>Pleno</td>\n",
       "      <td>Analista Administrativo Pleno</td>\n",
       "      <td>Tetra Tech América do Sul</td>\n",
       "      <td>NaN</td>\n",
       "      <td>MG</td>\n",
       "      <td>Híbrido</td>\n",
       "      <td>Efetivo</td>\n",
       "      <td>Regime CLT</td>\n",
       "      <td>Sim</td>\n",
       "      <td>['Assistência médica', 'Assistência odontológi...</td>\n",
       "      <td>v2591353</td>\n",
       "      <td>Descrição\\nDescrição: Venha fazer parte do nos...</td>\n",
       "    </tr>\n",
       "    <tr>\n",
       "      <th>615</th>\n",
       "      <td>Vagas.com</td>\n",
       "      <td>https://www.vagas.com.br/vagas/v2605353/analis...</td>\n",
       "      <td>NaN</td>\n",
       "      <td>2024-01-24</td>\n",
       "      <td>2024-02-25</td>\n",
       "      <td>2024-02-07</td>\n",
       "      <td>Engenharia de Dados</td>\n",
       "      <td>Sênior</td>\n",
       "      <td>Analista Sr. Estudos de Mercado</td>\n",
       "      <td>Elera Renováveis</td>\n",
       "      <td>São Paulo</td>\n",
       "      <td>SP</td>\n",
       "      <td>Presencial</td>\n",
       "      <td>Efetivo</td>\n",
       "      <td>Regime CLT</td>\n",
       "      <td>Não informado</td>\n",
       "      <td>['Assistência médica', 'Assistência odontológi...</td>\n",
       "      <td>v2605353</td>\n",
       "      <td>Descrição\\nDescrição: Pré-requisitos:•\\tFormaç...</td>\n",
       "    </tr>\n",
       "    <tr>\n",
       "      <th>632</th>\n",
       "      <td>Vagas.com</td>\n",
       "      <td>https://www.vagas.com.br/vagas/v2609455/analis...</td>\n",
       "      <td>NaN</td>\n",
       "      <td>2024-02-06</td>\n",
       "      <td>2024-03-06</td>\n",
       "      <td>2024-02-07</td>\n",
       "      <td>Engenharia de Dados</td>\n",
       "      <td>Pleno</td>\n",
       "      <td>Analista de Gestão de Riscos Sênior</td>\n",
       "      <td>Icatu Seguros</td>\n",
       "      <td>Rio de Janeiro</td>\n",
       "      <td>RJ</td>\n",
       "      <td>Presencial</td>\n",
       "      <td>Efetivo</td>\n",
       "      <td>Regime CLT</td>\n",
       "      <td>Não informado</td>\n",
       "      <td>['Assistência médica', 'Assistência odontológi...</td>\n",
       "      <td>v2609455</td>\n",
       "      <td>Descrição\\nDescrição: Formação acadêmica:• Ens...</td>\n",
       "    </tr>\n",
       "  </tbody>\n",
       "</table>\n",
       "</div>"
      ],
      "text/plain": [
       "    site_da_vaga                                          link_site  \\\n",
       "23     Vagas.com  https://www.vagas.com.br/vagas/v2599505/analis...   \n",
       "33     Vagas.com  https://www.vagas.com.br/vagas/v2602050/analis...   \n",
       "50     Vagas.com  https://www.vagas.com.br/vagas/v2604894/analis...   \n",
       "78     Vagas.com  https://www.vagas.com.br/vagas/v2605352/analis...   \n",
       "86     Vagas.com  https://www.vagas.com.br/vagas/v2591353/analis...   \n",
       "124    Vagas.com  https://www.vagas.com.br/vagas/v2591621/analis...   \n",
       "136    Vagas.com  https://www.vagas.com.br/vagas/v2607273/10462-...   \n",
       "158    Vagas.com  https://www.vagas.com.br/vagas/v2606689/analis...   \n",
       "171    Vagas.com  https://www.vagas.com.br/vagas/v2609524/analis...   \n",
       "173    Vagas.com  https://www.vagas.com.br/vagas/v2603394/analis...   \n",
       "190    Vagas.com  https://www.vagas.com.br/vagas/v2605353/analis...   \n",
       "194    Vagas.com  https://www.vagas.com.br/vagas/v2598227/analis...   \n",
       "237    Vagas.com  https://www.vagas.com.br/vagas/v2590898/execut...   \n",
       "241    Vagas.com  https://www.vagas.com.br/vagas/v2609455/analis...   \n",
       "265    Vagas.com  https://www.vagas.com.br/vagas/v2605068/analis...   \n",
       "297    Vagas.com  https://www.vagas.com.br/vagas/v2600688/analis...   \n",
       "322    Vagas.com  https://www.vagas.com.br/vagas/v2603008/analis...   \n",
       "377    Vagas.com  https://www.vagas.com.br/vagas/v2607155/consul...   \n",
       "429    Vagas.com  https://www.vagas.com.br/vagas/v2599271/estagi...   \n",
       "483    Vagas.com  https://www.vagas.com.br/vagas/v2603008/analis...   \n",
       "538    Vagas.com  https://www.vagas.com.br/vagas/v2605352/analis...   \n",
       "592    Vagas.com  https://www.vagas.com.br/vagas/v2598227/analis...   \n",
       "604    Vagas.com  https://www.vagas.com.br/vagas/v2591353/analis...   \n",
       "615    Vagas.com  https://www.vagas.com.br/vagas/v2605353/analis...   \n",
       "632    Vagas.com  https://www.vagas.com.br/vagas/v2609455/analis...   \n",
       "\n",
       "     link_origem data_publicacao data_expiracao data_coleta  \\\n",
       "23           NaN      2024-01-08            NaN  2024-02-07   \n",
       "33           NaN      2024-02-01     2024-02-16  2024-02-07   \n",
       "50           NaN      2024-01-23            NaN  2024-02-07   \n",
       "78           NaN      2024-01-24     2024-02-25  2024-02-07   \n",
       "86           NaN      2023-12-11            NaN  2024-02-07   \n",
       "124          NaN      2023-12-12     2024-02-12  2024-02-07   \n",
       "136          NaN      2024-01-31     2024-03-02  2024-02-07   \n",
       "158          NaN      2024-01-30     2024-03-01  2024-02-07   \n",
       "171          NaN      2024-02-06     2024-03-25  2024-02-07   \n",
       "173          NaN      2024-01-18     2024-02-18  2024-02-07   \n",
       "190          NaN      2024-01-24     2024-02-25  2024-02-07   \n",
       "194          NaN      2024-01-04     2024-02-29  2024-02-07   \n",
       "237          NaN      2023-12-08     2024-02-12  2024-02-07   \n",
       "241          NaN      2024-02-06     2024-03-06  2024-02-07   \n",
       "265          NaN      2024-01-24            NaN  2024-02-07   \n",
       "297          NaN      2024-01-11     2024-02-11  2024-02-07   \n",
       "322          NaN      2024-01-18            NaN  2024-02-07   \n",
       "377          NaN      2024-01-31            NaN  2024-02-07   \n",
       "429          NaN      2024-01-08     2024-02-29  2024-02-07   \n",
       "483          NaN      2024-01-18            NaN  2024-02-07   \n",
       "538          NaN      2024-01-24     2024-02-25  2024-02-07   \n",
       "592          NaN      2024-01-04     2024-02-29  2024-02-07   \n",
       "604          NaN      2023-12-11            NaN  2024-02-07   \n",
       "615          NaN      2024-01-24     2024-02-25  2024-02-07   \n",
       "632          NaN      2024-02-06     2024-03-06  2024-02-07   \n",
       "\n",
       "                 posicao           senioridade  \\\n",
       "23     Analista de Dados                Sênior   \n",
       "33     Analista de Dados        Júnior/Trainee   \n",
       "50     Analista de Dados                 Pleno   \n",
       "78     Analista de Dados                Sênior   \n",
       "86     Analista de Dados                 Pleno   \n",
       "124    Analista de Dados                Sênior   \n",
       "136    Analista de Dados                Sênior   \n",
       "158    Analista de Dados                 Pleno   \n",
       "171    Analista de Dados                 Pleno   \n",
       "173    Analista de Dados                Sênior   \n",
       "190    Analista de Dados                Sênior   \n",
       "194    Analista de Dados                Sênior   \n",
       "237    Analista de Dados                 Pleno   \n",
       "241    Analista de Dados                 Pleno   \n",
       "265    Analista de Dados                Sênior   \n",
       "297    Analista de Dados                 Pleno   \n",
       "322    Analista de Dados  Auxiliar/Operacional   \n",
       "377  Engenharia de Dados                Sênior   \n",
       "429  Engenharia de Dados               Estágio   \n",
       "483  Engenharia de Dados  Auxiliar/Operacional   \n",
       "538  Engenharia de Dados                Sênior   \n",
       "592  Engenharia de Dados                Sênior   \n",
       "604  Engenharia de Dados                 Pleno   \n",
       "615  Engenharia de Dados                Sênior   \n",
       "632  Engenharia de Dados                 Pleno   \n",
       "\n",
       "                                           titulo_vaga  \\\n",
       "23                       Analista Sênior de Inventário   \n",
       "33                             Analista de Eventos Jr.   \n",
       "50                                Analista Contabil II   \n",
       "78                             Analista Sr. Financeiro   \n",
       "86                       Analista Administrativo Pleno   \n",
       "124                          Analista de Compliance Sr   \n",
       "136                        10462 - Analista Pricing Sr   \n",
       "158                         Analista Pl Infraestrutura   \n",
       "171         Analista de Investimentos e Finanças Pleno   \n",
       "173                 Analista Sr - Contrato Determinado   \n",
       "190                    Analista Sr. Estudos de Mercado   \n",
       "194         Analista de Segurança da Informação Sênior   \n",
       "237                          Executivo de Contas Pleno   \n",
       "241                Analista de Gestão de Riscos Sênior   \n",
       "265          Analista Logistica Semi Senior (Lastmile)   \n",
       "297               Analista Financeiro - Contas a Pagar   \n",
       "322  Analista de Inteligência Clínico Operacional I...   \n",
       "377                   Consultor(a) de Analise de Dados   \n",
       "429  Estagiário(a) de Engenharia de Software (Híbrido)   \n",
       "483  Analista de Inteligência Clínico Operacional I...   \n",
       "538                            Analista Sr. Financeiro   \n",
       "592         Analista de Segurança da Informação Sênior   \n",
       "604                      Analista Administrativo Pleno   \n",
       "615                    Analista Sr. Estudos de Mercado   \n",
       "632                Analista de Gestão de Riscos Sênior   \n",
       "\n",
       "                  nome_empresa               cidade estado  modalidade  \\\n",
       "23               Mercado Livre                  NaN     SP  Presencial   \n",
       "33               Editora Globo            São Paulo     SP     Híbrido   \n",
       "50                  Odontoprev                  NaN     SP  Presencial   \n",
       "78                Confidencial            São Paulo     SP  Presencial   \n",
       "86   Tetra Tech América do Sul                  NaN     MG     Híbrido   \n",
       "124                  Ferroport       Rio de Janeiro     RJ  Presencial   \n",
       "136               Talent Group            São Paulo     SP  Presencial   \n",
       "158           Elera Renováveis            São Paulo     SP  Presencial   \n",
       "171  State Grid Brazil Holding       Rio de Janeiro     RJ  Presencial   \n",
       "173                  TMF Group              Barueri     SP  Presencial   \n",
       "190           Elera Renováveis            São Paulo     SP  Presencial   \n",
       "194                 Grupo Iter       Rio de Janeiro     RJ  Presencial   \n",
       "237                DHL Express  São José dos Campos     SP  Presencial   \n",
       "241              Icatu Seguros       Rio de Janeiro     RJ  Presencial   \n",
       "265               Confidencial                  NaN     SP  Presencial   \n",
       "297               Confidencial       Rio de Janeiro     RJ  Presencial   \n",
       "322                 Odontoprev                  NaN     SP  Presencial   \n",
       "377                 SulAmérica                  NaN     SP  Presencial   \n",
       "429                   Recovery            São Paulo     SP     Híbrido   \n",
       "483                 Odontoprev                  NaN     SP  Presencial   \n",
       "538               Confidencial            São Paulo     SP  Presencial   \n",
       "592                 Grupo Iter       Rio de Janeiro     RJ  Presencial   \n",
       "604  Tetra Tech América do Sul                  NaN     MG     Híbrido   \n",
       "615           Elera Renováveis            São Paulo     SP  Presencial   \n",
       "632              Icatu Seguros       Rio de Janeiro     RJ  Presencial   \n",
       "\n",
       "       contrato      regime            pcd  \\\n",
       "23      Efetivo  Regime CLT  Não informado   \n",
       "33      Efetivo  Regime CLT  Não informado   \n",
       "50      Efetivo  Regime CLT  Não informado   \n",
       "78      Efetivo  Regime CLT  Não informado   \n",
       "86      Efetivo  Regime CLT            Sim   \n",
       "124     Efetivo  Regime CLT  Não informado   \n",
       "136     Efetivo  Regime CLT  Não informado   \n",
       "158     Efetivo  Regime CLT  Não informado   \n",
       "171     Efetivo  Regime CLT  Não informado   \n",
       "173  Temporário  Temporário  Não informado   \n",
       "190     Efetivo  Regime CLT  Não informado   \n",
       "194     Efetivo  Regime CLT  Não informado   \n",
       "237     Efetivo  Regime CLT  Não informado   \n",
       "241     Efetivo  Regime CLT  Não informado   \n",
       "265     Efetivo  Regime CLT  Não informado   \n",
       "297     Efetivo  Regime CLT  Não informado   \n",
       "322     Efetivo  Regime CLT  Não informado   \n",
       "377     Efetivo  Regime CLT  Não informado   \n",
       "429     Estágio     Estágio            Sim   \n",
       "483     Efetivo  Regime CLT  Não informado   \n",
       "538     Efetivo  Regime CLT  Não informado   \n",
       "592     Efetivo  Regime CLT  Não informado   \n",
       "604     Efetivo  Regime CLT            Sim   \n",
       "615     Efetivo  Regime CLT  Não informado   \n",
       "632     Efetivo  Regime CLT  Não informado   \n",
       "\n",
       "                                            beneficios codigo_vaga  \\\n",
       "23   ['Assistência médica', 'Assistência odontológi...    v2599505   \n",
       "33   ['Assistência médica', 'Assistência odontológi...    v2602050   \n",
       "50   ['Assistência médica', 'Assistência odontológi...    v2604894   \n",
       "78   ['Assistência médica', 'Assistência odontológi...    v2605352   \n",
       "86   ['Assistência médica', 'Assistência odontológi...    v2591353   \n",
       "124  ['Assistência médica', 'Assistência odontológi...    v2591621   \n",
       "136  ['Assistência médica', 'Assistência odontológi...    v2607273   \n",
       "158  ['Assistência médica', 'Assistência odontológi...    v2606689   \n",
       "171  ['Assistência médica', 'Assistência odontológi...    v2609524   \n",
       "173  ['Assistência médica', 'Assistência odontológi...    v2603394   \n",
       "190  ['Assistência médica', 'Assistência odontológi...    v2605353   \n",
       "194  ['Assistência médica', 'Assistência odontológi...    v2598227   \n",
       "237  ['Assistência médica', 'Assistência odontológi...    v2590898   \n",
       "241  ['Assistência médica', 'Assistência odontológi...    v2609455   \n",
       "265  ['Assistência médica', 'Assistência odontológi...    v2605068   \n",
       "297  ['Assistência médica', 'Assistência odontológi...    v2600688   \n",
       "322  ['Assistência médica', 'Assistência odontológi...    v2603008   \n",
       "377  ['Assistência médica', 'Assistência odontológi...    v2607155   \n",
       "429  ['Assistência médica', 'Assistência odontológi...    v2599271   \n",
       "483  ['Assistência médica', 'Assistência odontológi...    v2603008   \n",
       "538  ['Assistência médica', 'Assistência odontológi...    v2605352   \n",
       "592  ['Assistência médica', 'Assistência odontológi...    v2598227   \n",
       "604  ['Assistência médica', 'Assistência odontológi...    v2591353   \n",
       "615  ['Assistência médica', 'Assistência odontológi...    v2605353   \n",
       "632  ['Assistência médica', 'Assistência odontológi...    v2609455   \n",
       "\n",
       "                                             descricao  \n",
       "23   Descrição\\nDescrição: Quais são os desafios da...  \n",
       "33   Descrição\\nDescrição: Somos um grupo de comuni...  \n",
       "50   Descrição\\nDescrição: Fechamento contábil: O A...  \n",
       "78   Descrição\\nDescrição:  Pré-requisitos: \\nForma...  \n",
       "86   Descrição\\nDescrição: Venha fazer parte do nos...  \n",
       "124  Descrição\\nDescrição: ComplianceConduzir inves...  \n",
       "136  Descrição\\nDescrição: Missão da Área: Responsá...  \n",
       "158  Descrição\\nDescrição: Com mais de 20 anos de a...  \n",
       "171  Descrição\\nDescrição: Estamos contratando um A...  \n",
       "173  Descrição\\nDescrição: Analista Sr - Contrato d...  \n",
       "190  Descrição\\nDescrição: Pré-requisitos:•\\tFormaç...  \n",
       "194  Descrição\\nDescrição: \\nAssegurar que as vulne...  \n",
       "237  Descrição\\nDescrição: SUAS ATIVIDADES: \\nAtuar...  \n",
       "241  Descrição\\nDescrição: Formação acadêmica:• Ens...  \n",
       "265  Descrição\\nDescrição: Estamos em busca de um A...  \n",
       "297  Descrição\\nDescrição: Analista Financeiro - Co...  \n",
       "322  Descrição\\nDescrição: Estamos em busca de um A...  \n",
       "377  Descrição\\nDescrição: Oportunidade para atuar ...  \n",
       "429  Descrição\\nDescrição: Na Recovery o(a) Estagiá...  \n",
       "483  Descrição\\nDescrição: Estamos em busca de um A...  \n",
       "538  Descrição\\nDescrição:  Pré-requisitos: \\nForma...  \n",
       "592  Descrição\\nDescrição: \\nAssegurar que as vulne...  \n",
       "604  Descrição\\nDescrição: Venha fazer parte do nos...  \n",
       "615  Descrição\\nDescrição: Pré-requisitos:•\\tFormaç...  \n",
       "632  Descrição\\nDescrição: Formação acadêmica:• Ens...  "
      ]
     },
     "execution_count": 25,
     "metadata": {},
     "output_type": "execute_result"
    }
   ],
   "source": [
    "df_vagas[df_vagas.index.isin( match_vaga_indices )]"
   ]
  },
  {
   "cell_type": "code",
   "execution_count": 26,
   "metadata": {},
   "outputs": [
    {
     "data": {
      "text/plain": [
       "Assistência médica                       496\n",
       "Assistência odontológica                 455\n",
       "Seguro de vida                           431\n",
       "Vale-transporte                          389\n",
       "Vale-refeição                            325\n",
       "Vale-alimentação                         297\n",
       "Participação nos Lucros ou Resultados    219\n",
       "Auxílio academia                         156\n",
       "Previdência privada                      116\n",
       "Convênio com empresas parceiras          113\n",
       "Auxílio creche                           105\n",
       "Refeitório                               105\n",
       "Auxílio farmácia                          86\n",
       "Restaurante interno                       79\n",
       "Programa de treinamentos                  77\n",
       "Desconto em produtos                      71\n",
       "Café da manhã                             65\n",
       "Cesta de natal                            64\n",
       "Auxílio fretado                           63\n",
       "Consignado                                52\n",
       "dtype: object"
      ]
     },
     "execution_count": 26,
     "metadata": {},
     "output_type": "execute_result"
    }
   ],
   "source": [
    "series_aux = df_one_hot_benefits.drop(['codigo_vaga', 'site_da_vaga'], axis=1).sum().sort_values(ascending=False).iloc[:20]\n",
    "series_aux"
   ]
  },
  {
   "cell_type": "code",
   "execution_count": 27,
   "metadata": {},
   "outputs": [],
   "source": [
    "import plotly.express as px"
   ]
  },
  {
   "cell_type": "code",
   "execution_count": 28,
   "metadata": {},
   "outputs": [
    {
     "data": {
      "application/vnd.plotly.v1+json": {
       "config": {
        "plotlyServerURL": "https://plot.ly"
       },
       "data": [
        {
         "alignmentgroup": "True",
         "hovertemplate": "Benefícios=%{x}<br>Número de Vagas=%{y}<extra></extra>",
         "legendgroup": "",
         "marker": {
          "color": "#636efa",
          "pattern": {
           "shape": ""
          }
         },
         "name": "",
         "offsetgroup": "",
         "orientation": "v",
         "showlegend": false,
         "textposition": "auto",
         "type": "bar",
         "x": [
          "Assistência médica",
          "Assistência odontológica",
          "Seguro de vida",
          "Vale-transporte",
          "Vale-refeição",
          "Vale-alimentação",
          "Participação nos Lucros ou Resultados",
          "Auxílio academia",
          "Previdência privada",
          "Convênio com empresas parceiras",
          "Auxílio creche",
          "Refeitório",
          "Auxílio farmácia",
          "Restaurante interno",
          "Programa de treinamentos",
          "Desconto em produtos",
          "Café da manhã",
          "Cesta de natal",
          "Auxílio fretado",
          "Consignado"
         ],
         "xaxis": "x",
         "y": [
          496,
          455,
          431,
          389,
          325,
          297,
          219,
          156,
          116,
          113,
          105,
          105,
          86,
          79,
          77,
          71,
          65,
          64,
          63,
          52
         ],
         "yaxis": "y"
        }
       ],
       "layout": {
        "barmode": "relative",
        "legend": {
         "tracegroupgap": 0
        },
        "template": {
         "data": {
          "bar": [
           {
            "error_x": {
             "color": "#2a3f5f"
            },
            "error_y": {
             "color": "#2a3f5f"
            },
            "marker": {
             "line": {
              "color": "#E5ECF6",
              "width": 0.5
             },
             "pattern": {
              "fillmode": "overlay",
              "size": 10,
              "solidity": 0.2
             }
            },
            "type": "bar"
           }
          ],
          "barpolar": [
           {
            "marker": {
             "line": {
              "color": "#E5ECF6",
              "width": 0.5
             },
             "pattern": {
              "fillmode": "overlay",
              "size": 10,
              "solidity": 0.2
             }
            },
            "type": "barpolar"
           }
          ],
          "carpet": [
           {
            "aaxis": {
             "endlinecolor": "#2a3f5f",
             "gridcolor": "white",
             "linecolor": "white",
             "minorgridcolor": "white",
             "startlinecolor": "#2a3f5f"
            },
            "baxis": {
             "endlinecolor": "#2a3f5f",
             "gridcolor": "white",
             "linecolor": "white",
             "minorgridcolor": "white",
             "startlinecolor": "#2a3f5f"
            },
            "type": "carpet"
           }
          ],
          "choropleth": [
           {
            "colorbar": {
             "outlinewidth": 0,
             "ticks": ""
            },
            "type": "choropleth"
           }
          ],
          "contour": [
           {
            "colorbar": {
             "outlinewidth": 0,
             "ticks": ""
            },
            "colorscale": [
             [
              0,
              "#0d0887"
             ],
             [
              0.1111111111111111,
              "#46039f"
             ],
             [
              0.2222222222222222,
              "#7201a8"
             ],
             [
              0.3333333333333333,
              "#9c179e"
             ],
             [
              0.4444444444444444,
              "#bd3786"
             ],
             [
              0.5555555555555556,
              "#d8576b"
             ],
             [
              0.6666666666666666,
              "#ed7953"
             ],
             [
              0.7777777777777778,
              "#fb9f3a"
             ],
             [
              0.8888888888888888,
              "#fdca26"
             ],
             [
              1,
              "#f0f921"
             ]
            ],
            "type": "contour"
           }
          ],
          "contourcarpet": [
           {
            "colorbar": {
             "outlinewidth": 0,
             "ticks": ""
            },
            "type": "contourcarpet"
           }
          ],
          "heatmap": [
           {
            "colorbar": {
             "outlinewidth": 0,
             "ticks": ""
            },
            "colorscale": [
             [
              0,
              "#0d0887"
             ],
             [
              0.1111111111111111,
              "#46039f"
             ],
             [
              0.2222222222222222,
              "#7201a8"
             ],
             [
              0.3333333333333333,
              "#9c179e"
             ],
             [
              0.4444444444444444,
              "#bd3786"
             ],
             [
              0.5555555555555556,
              "#d8576b"
             ],
             [
              0.6666666666666666,
              "#ed7953"
             ],
             [
              0.7777777777777778,
              "#fb9f3a"
             ],
             [
              0.8888888888888888,
              "#fdca26"
             ],
             [
              1,
              "#f0f921"
             ]
            ],
            "type": "heatmap"
           }
          ],
          "heatmapgl": [
           {
            "colorbar": {
             "outlinewidth": 0,
             "ticks": ""
            },
            "colorscale": [
             [
              0,
              "#0d0887"
             ],
             [
              0.1111111111111111,
              "#46039f"
             ],
             [
              0.2222222222222222,
              "#7201a8"
             ],
             [
              0.3333333333333333,
              "#9c179e"
             ],
             [
              0.4444444444444444,
              "#bd3786"
             ],
             [
              0.5555555555555556,
              "#d8576b"
             ],
             [
              0.6666666666666666,
              "#ed7953"
             ],
             [
              0.7777777777777778,
              "#fb9f3a"
             ],
             [
              0.8888888888888888,
              "#fdca26"
             ],
             [
              1,
              "#f0f921"
             ]
            ],
            "type": "heatmapgl"
           }
          ],
          "histogram": [
           {
            "marker": {
             "pattern": {
              "fillmode": "overlay",
              "size": 10,
              "solidity": 0.2
             }
            },
            "type": "histogram"
           }
          ],
          "histogram2d": [
           {
            "colorbar": {
             "outlinewidth": 0,
             "ticks": ""
            },
            "colorscale": [
             [
              0,
              "#0d0887"
             ],
             [
              0.1111111111111111,
              "#46039f"
             ],
             [
              0.2222222222222222,
              "#7201a8"
             ],
             [
              0.3333333333333333,
              "#9c179e"
             ],
             [
              0.4444444444444444,
              "#bd3786"
             ],
             [
              0.5555555555555556,
              "#d8576b"
             ],
             [
              0.6666666666666666,
              "#ed7953"
             ],
             [
              0.7777777777777778,
              "#fb9f3a"
             ],
             [
              0.8888888888888888,
              "#fdca26"
             ],
             [
              1,
              "#f0f921"
             ]
            ],
            "type": "histogram2d"
           }
          ],
          "histogram2dcontour": [
           {
            "colorbar": {
             "outlinewidth": 0,
             "ticks": ""
            },
            "colorscale": [
             [
              0,
              "#0d0887"
             ],
             [
              0.1111111111111111,
              "#46039f"
             ],
             [
              0.2222222222222222,
              "#7201a8"
             ],
             [
              0.3333333333333333,
              "#9c179e"
             ],
             [
              0.4444444444444444,
              "#bd3786"
             ],
             [
              0.5555555555555556,
              "#d8576b"
             ],
             [
              0.6666666666666666,
              "#ed7953"
             ],
             [
              0.7777777777777778,
              "#fb9f3a"
             ],
             [
              0.8888888888888888,
              "#fdca26"
             ],
             [
              1,
              "#f0f921"
             ]
            ],
            "type": "histogram2dcontour"
           }
          ],
          "mesh3d": [
           {
            "colorbar": {
             "outlinewidth": 0,
             "ticks": ""
            },
            "type": "mesh3d"
           }
          ],
          "parcoords": [
           {
            "line": {
             "colorbar": {
              "outlinewidth": 0,
              "ticks": ""
             }
            },
            "type": "parcoords"
           }
          ],
          "pie": [
           {
            "automargin": true,
            "type": "pie"
           }
          ],
          "scatter": [
           {
            "fillpattern": {
             "fillmode": "overlay",
             "size": 10,
             "solidity": 0.2
            },
            "type": "scatter"
           }
          ],
          "scatter3d": [
           {
            "line": {
             "colorbar": {
              "outlinewidth": 0,
              "ticks": ""
             }
            },
            "marker": {
             "colorbar": {
              "outlinewidth": 0,
              "ticks": ""
             }
            },
            "type": "scatter3d"
           }
          ],
          "scattercarpet": [
           {
            "marker": {
             "colorbar": {
              "outlinewidth": 0,
              "ticks": ""
             }
            },
            "type": "scattercarpet"
           }
          ],
          "scattergeo": [
           {
            "marker": {
             "colorbar": {
              "outlinewidth": 0,
              "ticks": ""
             }
            },
            "type": "scattergeo"
           }
          ],
          "scattergl": [
           {
            "marker": {
             "colorbar": {
              "outlinewidth": 0,
              "ticks": ""
             }
            },
            "type": "scattergl"
           }
          ],
          "scattermapbox": [
           {
            "marker": {
             "colorbar": {
              "outlinewidth": 0,
              "ticks": ""
             }
            },
            "type": "scattermapbox"
           }
          ],
          "scatterpolar": [
           {
            "marker": {
             "colorbar": {
              "outlinewidth": 0,
              "ticks": ""
             }
            },
            "type": "scatterpolar"
           }
          ],
          "scatterpolargl": [
           {
            "marker": {
             "colorbar": {
              "outlinewidth": 0,
              "ticks": ""
             }
            },
            "type": "scatterpolargl"
           }
          ],
          "scatterternary": [
           {
            "marker": {
             "colorbar": {
              "outlinewidth": 0,
              "ticks": ""
             }
            },
            "type": "scatterternary"
           }
          ],
          "surface": [
           {
            "colorbar": {
             "outlinewidth": 0,
             "ticks": ""
            },
            "colorscale": [
             [
              0,
              "#0d0887"
             ],
             [
              0.1111111111111111,
              "#46039f"
             ],
             [
              0.2222222222222222,
              "#7201a8"
             ],
             [
              0.3333333333333333,
              "#9c179e"
             ],
             [
              0.4444444444444444,
              "#bd3786"
             ],
             [
              0.5555555555555556,
              "#d8576b"
             ],
             [
              0.6666666666666666,
              "#ed7953"
             ],
             [
              0.7777777777777778,
              "#fb9f3a"
             ],
             [
              0.8888888888888888,
              "#fdca26"
             ],
             [
              1,
              "#f0f921"
             ]
            ],
            "type": "surface"
           }
          ],
          "table": [
           {
            "cells": {
             "fill": {
              "color": "#EBF0F8"
             },
             "line": {
              "color": "white"
             }
            },
            "header": {
             "fill": {
              "color": "#C8D4E3"
             },
             "line": {
              "color": "white"
             }
            },
            "type": "table"
           }
          ]
         },
         "layout": {
          "annotationdefaults": {
           "arrowcolor": "#2a3f5f",
           "arrowhead": 0,
           "arrowwidth": 1
          },
          "autotypenumbers": "strict",
          "coloraxis": {
           "colorbar": {
            "outlinewidth": 0,
            "ticks": ""
           }
          },
          "colorscale": {
           "diverging": [
            [
             0,
             "#8e0152"
            ],
            [
             0.1,
             "#c51b7d"
            ],
            [
             0.2,
             "#de77ae"
            ],
            [
             0.3,
             "#f1b6da"
            ],
            [
             0.4,
             "#fde0ef"
            ],
            [
             0.5,
             "#f7f7f7"
            ],
            [
             0.6,
             "#e6f5d0"
            ],
            [
             0.7,
             "#b8e186"
            ],
            [
             0.8,
             "#7fbc41"
            ],
            [
             0.9,
             "#4d9221"
            ],
            [
             1,
             "#276419"
            ]
           ],
           "sequential": [
            [
             0,
             "#0d0887"
            ],
            [
             0.1111111111111111,
             "#46039f"
            ],
            [
             0.2222222222222222,
             "#7201a8"
            ],
            [
             0.3333333333333333,
             "#9c179e"
            ],
            [
             0.4444444444444444,
             "#bd3786"
            ],
            [
             0.5555555555555556,
             "#d8576b"
            ],
            [
             0.6666666666666666,
             "#ed7953"
            ],
            [
             0.7777777777777778,
             "#fb9f3a"
            ],
            [
             0.8888888888888888,
             "#fdca26"
            ],
            [
             1,
             "#f0f921"
            ]
           ],
           "sequentialminus": [
            [
             0,
             "#0d0887"
            ],
            [
             0.1111111111111111,
             "#46039f"
            ],
            [
             0.2222222222222222,
             "#7201a8"
            ],
            [
             0.3333333333333333,
             "#9c179e"
            ],
            [
             0.4444444444444444,
             "#bd3786"
            ],
            [
             0.5555555555555556,
             "#d8576b"
            ],
            [
             0.6666666666666666,
             "#ed7953"
            ],
            [
             0.7777777777777778,
             "#fb9f3a"
            ],
            [
             0.8888888888888888,
             "#fdca26"
            ],
            [
             1,
             "#f0f921"
            ]
           ]
          },
          "colorway": [
           "#636efa",
           "#EF553B",
           "#00cc96",
           "#ab63fa",
           "#FFA15A",
           "#19d3f3",
           "#FF6692",
           "#B6E880",
           "#FF97FF",
           "#FECB52"
          ],
          "font": {
           "color": "#2a3f5f"
          },
          "geo": {
           "bgcolor": "white",
           "lakecolor": "white",
           "landcolor": "#E5ECF6",
           "showlakes": true,
           "showland": true,
           "subunitcolor": "white"
          },
          "hoverlabel": {
           "align": "left"
          },
          "hovermode": "closest",
          "mapbox": {
           "style": "light"
          },
          "paper_bgcolor": "white",
          "plot_bgcolor": "#E5ECF6",
          "polar": {
           "angularaxis": {
            "gridcolor": "white",
            "linecolor": "white",
            "ticks": ""
           },
           "bgcolor": "#E5ECF6",
           "radialaxis": {
            "gridcolor": "white",
            "linecolor": "white",
            "ticks": ""
           }
          },
          "scene": {
           "xaxis": {
            "backgroundcolor": "#E5ECF6",
            "gridcolor": "white",
            "gridwidth": 2,
            "linecolor": "white",
            "showbackground": true,
            "ticks": "",
            "zerolinecolor": "white"
           },
           "yaxis": {
            "backgroundcolor": "#E5ECF6",
            "gridcolor": "white",
            "gridwidth": 2,
            "linecolor": "white",
            "showbackground": true,
            "ticks": "",
            "zerolinecolor": "white"
           },
           "zaxis": {
            "backgroundcolor": "#E5ECF6",
            "gridcolor": "white",
            "gridwidth": 2,
            "linecolor": "white",
            "showbackground": true,
            "ticks": "",
            "zerolinecolor": "white"
           }
          },
          "shapedefaults": {
           "line": {
            "color": "#2a3f5f"
           }
          },
          "ternary": {
           "aaxis": {
            "gridcolor": "white",
            "linecolor": "white",
            "ticks": ""
           },
           "baxis": {
            "gridcolor": "white",
            "linecolor": "white",
            "ticks": ""
           },
           "bgcolor": "#E5ECF6",
           "caxis": {
            "gridcolor": "white",
            "linecolor": "white",
            "ticks": ""
           }
          },
          "title": {
           "x": 0.05
          },
          "xaxis": {
           "automargin": true,
           "gridcolor": "white",
           "linecolor": "white",
           "ticks": "",
           "title": {
            "standoff": 15
           },
           "zerolinecolor": "white",
           "zerolinewidth": 2
          },
          "yaxis": {
           "automargin": true,
           "gridcolor": "white",
           "linecolor": "white",
           "ticks": "",
           "title": {
            "standoff": 15
           },
           "zerolinecolor": "white",
           "zerolinewidth": 2
          }
         }
        },
        "title": {
         "text": "Beneficios por Vagas"
        },
        "xaxis": {
         "anchor": "y",
         "domain": [
          0,
          1
         ],
         "title": {
          "text": "Benefícios"
         }
        },
        "yaxis": {
         "anchor": "x",
         "domain": [
          0,
          1
         ],
         "title": {
          "text": "Número de Vagas"
         }
        }
       }
      }
     },
     "metadata": {},
     "output_type": "display_data"
    }
   ],
   "source": [
    "px.bar(\n",
    "    x=series_aux.index,\n",
    "    y=series_aux.values,\n",
    "    labels={'x': 'Benefícios', 'y': 'Número de Vagas'},\n",
    "    title='Beneficios por Vagas'\n",
    ")"
   ]
  },
  {
   "cell_type": "code",
   "execution_count": null,
   "metadata": {},
   "outputs": [],
   "source": []
  }
 ],
 "metadata": {
  "kernelspec": {
   "display_name": "empresa_jr",
   "language": "python",
   "name": "python3"
  },
  "language_info": {
   "codemirror_mode": {
    "name": "ipython",
    "version": 3
   },
   "file_extension": ".py",
   "mimetype": "text/x-python",
   "name": "python",
   "nbconvert_exporter": "python",
   "pygments_lexer": "ipython3",
   "version": "3.11.4"
  }
 },
 "nbformat": 4,
 "nbformat_minor": 2
}
