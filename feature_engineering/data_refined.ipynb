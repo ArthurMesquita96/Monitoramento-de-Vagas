{
 "cells": [
  {
   "cell_type": "markdown",
   "metadata": {},
   "source": [
    "## Imports"
   ]
  },
  {
   "cell_type": "code",
   "execution_count": 27,
   "metadata": {},
   "outputs": [],
   "source": [
    "import pandas as pd\n",
    "import os"
   ]
  },
  {
   "cell_type": "markdown",
   "metadata": {},
   "source": [
    "## Carregando dados"
   ]
  },
  {
   "cell_type": "code",
   "execution_count": 28,
   "metadata": {},
   "outputs": [],
   "source": [
    "df_full = pd.DataFrame()\n",
    "for _, _, files_names in os.walk('../data/data_clean'):\n",
    "    for file_name in files_names:\n",
    "        df_aux = pd.read_excel('../data/data_clean/' + file_name)\n",
    "        df_full = pd.concat([df_full, df_aux], axis = 0)"
   ]
  },
  {
   "cell_type": "markdown",
   "metadata": {},
   "source": [
    "## Feature Engineering"
   ]
  },
  {
   "cell_type": "markdown",
   "metadata": {},
   "source": [
    "### Skills"
   ]
  },
  {
   "cell_type": "code",
   "execution_count": null,
   "metadata": {},
   "outputs": [],
   "source": [
    "skills_list = ['Python', 'SQL', 'Power BI', 'Pacote Office', 'Excel', 'NoSQL']\n",
    "\n",
    "def find_skills(descricao, skills_list):\n",
    "\n",
    "    skills_list_aux = []\n",
    "    for s in skills_list:\n",
    "        if descricao.find(s) == -1:\n",
    "            pass\n",
    "        else:\n",
    "            skills_list_aux.append(s)\n",
    "    \n",
    "    return skills_list_aux\n",
    "\n",
    "df_full['Skills'] = df_full['descricao'].apply(lambda x: x if isinstance(x, float) else find_skills(x,skills_list))"
   ]
  },
  {
   "cell_type": "markdown",
   "metadata": {},
   "source": [
    "## Save File"
   ]
  },
  {
   "cell_type": "code",
   "execution_count": 65,
   "metadata": {},
   "outputs": [],
   "source": [
    "df_full.to_excel('../data/data_refined/vagas_full.xlsx', index=False)"
   ]
  },
  {
   "cell_type": "code",
   "execution_count": null,
   "metadata": {},
   "outputs": [],
   "source": []
  }
 ],
 "metadata": {
  "kernelspec": {
   "display_name": "empresa_jr",
   "language": "python",
   "name": "empresa_jr"
  },
  "language_info": {
   "codemirror_mode": {
    "name": "ipython",
    "version": 3
   },
   "file_extension": ".py",
   "mimetype": "text/x-python",
   "name": "python",
   "nbconvert_exporter": "python",
   "pygments_lexer": "ipython3",
   "version": "3.11.4"
  }
 },
 "nbformat": 4,
 "nbformat_minor": 2
}
