{
 "cells": [
  {
   "cell_type": "code",
   "execution_count": 1,
   "metadata": {},
   "outputs": [],
   "source": [
    "import pandas as pd"
   ]
  },
  {
   "cell_type": "code",
   "execution_count": 3,
   "metadata": {},
   "outputs": [],
   "source": [
    "dict_skills = pd.read_excel('data/dicionario-skills.xlsx', sheet_name='Habilidades')"
   ]
  },
  {
   "cell_type": "code",
   "execution_count": 19,
   "metadata": {},
   "outputs": [
    {
     "data": {
      "text/plain": [
       "{'Analytics': ['teradata',\n",
       "  'analise descritiva',\n",
       "  'analise diagnostica',\n",
       "  'eda',\n",
       "  'sas',\n",
       "  'google analytics'],\n",
       " 'Automação': ['power apps', 'power automate', 'appsheet'],\n",
       " 'Banco de Dados': ['banco de dados',\n",
       "  'data warehouse',\n",
       "  'mongodb',\n",
       "  'oracle',\n",
       "  'postgresql',\n",
       "  'oracle database'],\n",
       " 'Cloud': ['cloud', 'azure', 'aws', 'gcp', 'linode', 'databricks'],\n",
       " 'Dataviz': ['clickview', 'power bi', 'tableau', 'qlik view', 'looker'],\n",
       " 'Deep Learning': ['deep learning'],\n",
       " 'ETL': ['etl', 'spark'],\n",
       " 'Engenharia de Software': ['docker',\n",
       "  'git',\n",
       "  'linux',\n",
       "  'kubernets',\n",
       "  'openshift',\n",
       "  'airflow',\n",
       "  'devops',\n",
       "  'datalake',\n",
       "  'datamarts',\n",
       "  'github',\n",
       "  'ci/cd',\n",
       "  'hadoop',\n",
       "  'elasticsearch',\n",
       "  'bash'],\n",
       " 'Estatística': ['estatística'],\n",
       " 'KPI': ['indicadores', 'indicadores', 'kpi'],\n",
       " 'Machine Learning': ['machine learning'],\n",
       " 'Modelagem': ['modelagem de dados'],\n",
       " 'Pacote Office': ['excel', 'power point', 'pacote office'],\n",
       " 'Programação': ['scala',\n",
       "  'java',\n",
       "  'linguagem r',\n",
       "  'matlab',\n",
       "  'python',\n",
       "  'vba',\n",
       "  'php',\n",
       "  'css',\n",
       "  'html5',\n",
       "  'google expert'],\n",
       " 'Pós-graduação': ['pós-graduação'],\n",
       " 'SQL': ['mysql', 'nosql', 'sql']}"
      ]
     },
     "execution_count": 19,
     "metadata": {},
     "output_type": "execute_result"
    }
   ],
   "source": [
    "def build_skills_map(data, macro:bool = False):\n",
    "    dict_micro_tema = {}\n",
    "    dict_macro_tema = {}\n",
    "\n",
    "    for index, row in dict_skills[['micro','palavras_chave']].iterrows():\n",
    "        dict_micro_tema[row['micro']] = row['palavras_chave'].split(', ')\n",
    "\n",
    "    if macro:\n",
    "\n",
    "        df_macro_temas = dict_skills[['macro','micro']].groupby('macro').agg(palavras_chave = ('micro',lambda x: ', '.join(x.str.lower()))).reset_index()\n",
    "        for index, row in df_macro_temas.iterrows():\n",
    "            dict_macro_tema[row['macro']] = row['palavras_chave'].split(', ')\n",
    "        return dict_micro_tema, dict_macro_tema\n",
    "    else:\n",
    "        return dict_micro_tema\n"
   ]
  },
  {
   "cell_type": "code",
   "execution_count": null,
   "metadata": {},
   "outputs": [],
   "source": []
  }
 ],
 "metadata": {
  "kernelspec": {
   "display_name": "monitoramento-vagas-env",
   "language": "python",
   "name": "python3"
  },
  "language_info": {
   "codemirror_mode": {
    "name": "ipython",
    "version": 3
   },
   "file_extension": ".py",
   "mimetype": "text/x-python",
   "name": "python",
   "nbconvert_exporter": "python",
   "pygments_lexer": "ipython3",
   "version": "3.11.7"
  }
 },
 "nbformat": 4,
 "nbformat_minor": 2
}
