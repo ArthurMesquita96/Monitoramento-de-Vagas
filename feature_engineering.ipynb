{
 "cells": [
  {
   "cell_type": "markdown",
   "metadata": {},
   "source": [
    "# Imports"
   ]
  },
  {
   "cell_type": "code",
   "execution_count": 10,
   "metadata": {},
   "outputs": [],
   "source": [
    "import pandas as pd\n",
    "from unidecode import unidecode"
   ]
  },
  {
   "cell_type": "markdown",
   "metadata": {},
   "source": [
    "# Load Data"
   ]
  },
  {
   "cell_type": "code",
   "execution_count": 5,
   "metadata": {},
   "outputs": [
    {
     "data": {
      "text/html": [
       "<div>\n",
       "<style scoped>\n",
       "    .dataframe tbody tr th:only-of-type {\n",
       "        vertical-align: middle;\n",
       "    }\n",
       "\n",
       "    .dataframe tbody tr th {\n",
       "        vertical-align: top;\n",
       "    }\n",
       "\n",
       "    .dataframe thead th {\n",
       "        text-align: right;\n",
       "    }\n",
       "</style>\n",
       "<table border=\"1\" class=\"dataframe\">\n",
       "  <thead>\n",
       "    <tr style=\"text-align: right;\">\n",
       "      <th></th>\n",
       "      <th>site_da_vaga</th>\n",
       "      <th>link</th>\n",
       "      <th>data_publicacao</th>\n",
       "      <th>data_coleta</th>\n",
       "      <th>titulo_da_vaga</th>\n",
       "      <th>local</th>\n",
       "      <th>modalidade</th>\n",
       "      <th>contrato</th>\n",
       "      <th>acessibilidade</th>\n",
       "      <th>nome_empresa</th>\n",
       "      <th>codigo_vaga</th>\n",
       "      <th>descricao</th>\n",
       "    </tr>\n",
       "  </thead>\n",
       "  <tbody>\n",
       "    <tr>\n",
       "      <th>0</th>\n",
       "      <td>Gupy</td>\n",
       "      <td>https://globo.gupy.io/job/eyJqb2JJZCI6NjYzMjY2...</td>\n",
       "      <td>Publicada em: 16/01/2024</td>\n",
       "      <td>2024-01-17</td>\n",
       "      <td>Analista de dados Júnior - Prazo Determinado |...</td>\n",
       "      <td>Rio de Jan... - RJ</td>\n",
       "      <td>Híbrido</td>\n",
       "      <td>Temporário</td>\n",
       "      <td>NaN</td>\n",
       "      <td>Globo</td>\n",
       "      <td>NaN</td>\n",
       "      <td>Descrição da vagaNossa área de Estratégia e Te...</td>\n",
       "    </tr>\n",
       "    <tr>\n",
       "      <th>1</th>\n",
       "      <td>Gupy</td>\n",
       "      <td>https://magnasistemas.gupy.io/job/eyJqb2JJZCI6...</td>\n",
       "      <td>Publicada em: 16/01/2024</td>\n",
       "      <td>2024-01-17</td>\n",
       "      <td>6593545| Analista de Dados PL</td>\n",
       "      <td>São Paulo - SP</td>\n",
       "      <td>Presencial</td>\n",
       "      <td>Efetivo</td>\n",
       "      <td>Também p/ PcD</td>\n",
       "      <td>MAGNA SISTEMAS</td>\n",
       "      <td>NaN</td>\n",
       "      <td>Descrição da vagaJunte-se a nós!▶️Que tal atua...</td>\n",
       "    </tr>\n",
       "    <tr>\n",
       "      <th>2</th>\n",
       "      <td>Gupy</td>\n",
       "      <td>https://recrutamentoescalar.gupy.io/job/eyJqb2...</td>\n",
       "      <td>Publicada em: 16/01/2024</td>\n",
       "      <td>2024-01-17</td>\n",
       "      <td>Analista de Inteligência de Dados</td>\n",
       "      <td>Belo Horiz... - MG</td>\n",
       "      <td>Híbrido</td>\n",
       "      <td>Efetivo</td>\n",
       "      <td>NaN</td>\n",
       "      <td>Recrutamento e Seleção de Profissionais Grupo ...</td>\n",
       "      <td>NaN</td>\n",
       "      <td>Descrição da vagaSobre a empresaEmpresa dedica...</td>\n",
       "    </tr>\n",
       "    <tr>\n",
       "      <th>3</th>\n",
       "      <td>Gupy</td>\n",
       "      <td>https://magnasistemas.gupy.io/job/eyJqb2JJZCI6...</td>\n",
       "      <td>Publicada em: 16/01/2024</td>\n",
       "      <td>2024-01-17</td>\n",
       "      <td>6597603| Analista de Ciências de Dados PL</td>\n",
       "      <td>Taboão da ... - SP</td>\n",
       "      <td>Híbrido</td>\n",
       "      <td>Efetivo</td>\n",
       "      <td>Também p/ PcD</td>\n",
       "      <td>MAGNA SISTEMAS</td>\n",
       "      <td>NaN</td>\n",
       "      <td>Descrição da vagaJunte-se a nós!▶️Que tal atua...</td>\n",
       "    </tr>\n",
       "    <tr>\n",
       "      <th>4</th>\n",
       "      <td>Gupy</td>\n",
       "      <td>https://nava.gupy.io/job/eyJqb2JJZCI6NjYyOTk0N...</td>\n",
       "      <td>Publicada em: 16/01/2024</td>\n",
       "      <td>2024-01-17</td>\n",
       "      <td>Analista de Automação (Banco de Dados) PL/SR</td>\n",
       "      <td>São Paulo - SP</td>\n",
       "      <td>Híbrido</td>\n",
       "      <td>Efetivo</td>\n",
       "      <td>Também p/ PcD</td>\n",
       "      <td>NAVA | Technology for Business</td>\n",
       "      <td>NaN</td>\n",
       "      <td>Descrição da vagaA NAVA está em busca de uma P...</td>\n",
       "    </tr>\n",
       "  </tbody>\n",
       "</table>\n",
       "</div>"
      ],
      "text/plain": [
       "  site_da_vaga                                               link  \\\n",
       "0         Gupy  https://globo.gupy.io/job/eyJqb2JJZCI6NjYzMjY2...   \n",
       "1         Gupy  https://magnasistemas.gupy.io/job/eyJqb2JJZCI6...   \n",
       "2         Gupy  https://recrutamentoescalar.gupy.io/job/eyJqb2...   \n",
       "3         Gupy  https://magnasistemas.gupy.io/job/eyJqb2JJZCI6...   \n",
       "4         Gupy  https://nava.gupy.io/job/eyJqb2JJZCI6NjYyOTk0N...   \n",
       "\n",
       "            data_publicacao data_coleta  \\\n",
       "0  Publicada em: 16/01/2024  2024-01-17   \n",
       "1  Publicada em: 16/01/2024  2024-01-17   \n",
       "2  Publicada em: 16/01/2024  2024-01-17   \n",
       "3  Publicada em: 16/01/2024  2024-01-17   \n",
       "4  Publicada em: 16/01/2024  2024-01-17   \n",
       "\n",
       "                                      titulo_da_vaga               local  \\\n",
       "0  Analista de dados Júnior - Prazo Determinado |...  Rio de Jan... - RJ   \n",
       "1                      6593545| Analista de Dados PL      São Paulo - SP   \n",
       "2                  Analista de Inteligência de Dados  Belo Horiz... - MG   \n",
       "3          6597603| Analista de Ciências de Dados PL  Taboão da ... - SP   \n",
       "4     Analista de Automação (Banco de Dados) PL/SR        São Paulo - SP   \n",
       "\n",
       "   modalidade    contrato acessibilidade  \\\n",
       "0     Híbrido  Temporário            NaN   \n",
       "1  Presencial     Efetivo  Também p/ PcD   \n",
       "2     Híbrido     Efetivo            NaN   \n",
       "3     Híbrido     Efetivo  Também p/ PcD   \n",
       "4     Híbrido     Efetivo  Também p/ PcD   \n",
       "\n",
       "                                        nome_empresa  codigo_vaga  \\\n",
       "0                                              Globo          NaN   \n",
       "1                                     MAGNA SISTEMAS          NaN   \n",
       "2  Recrutamento e Seleção de Profissionais Grupo ...          NaN   \n",
       "3                                     MAGNA SISTEMAS          NaN   \n",
       "4                     NAVA | Technology for Business          NaN   \n",
       "\n",
       "                                           descricao  \n",
       "0  Descrição da vagaNossa área de Estratégia e Te...  \n",
       "1  Descrição da vagaJunte-se a nós!▶️Que tal atua...  \n",
       "2  Descrição da vagaSobre a empresaEmpresa dedica...  \n",
       "3  Descrição da vagaJunte-se a nós!▶️Que tal atua...  \n",
       "4  Descrição da vagaA NAVA está em busca de uma P...  "
      ]
     },
     "execution_count": 5,
     "metadata": {},
     "output_type": "execute_result"
    }
   ],
   "source": [
    "df_gupy = pd.read_excel('data_raw/vagas_gupy.xlsx')\n",
    "\n",
    "df_vagas = pd.concat([df_gupy], axis = 0)\n",
    "df_vagas.head()"
   ]
  },
  {
   "cell_type": "markdown",
   "metadata": {},
   "source": [
    "# Features"
   ]
  },
  {
   "cell_type": "markdown",
   "metadata": {},
   "source": [
    "## Senioridade"
   ]
  },
  {
   "cell_type": "code",
   "execution_count": null,
   "metadata": {},
   "outputs": [],
   "source": [
    "# matches para as senioridades\n",
    "junior_matches = ['junior', ' jr', ' i', ' l']\n",
    "pleno_matches = ['pleno', ' pl', ' ii', ' ll']\n",
    "senior_matches = ['senior', ' sr', ' iii', 'lll']\n",
    "\n",
    "# removendo acentos e deixando letras minúsculas\n",
    "df_vagas['titulo_da_vaga_tratado'] = df_vagas['titulo_da_vaga'].apply(lambda x: unidecode(x.lower()))\n",
    "\n",
    "# função de faz matches com as senioridades das vagas\n",
    "def busca_senioridade(titulo_vaga, match_list):\n",
    "    senioridade = False\n",
    "    for sub_string in match_list:\n",
    "        if sub_string in titulo_vaga:\n",
    "            senioridade = True\n",
    "    \n",
    "    return senioridade\n",
    "\n",
    "# aplicando função\n",
    "df_vagas['senioridade_junior'] = df_vagas['titulo_da_vaga_tratado'].apply(lambda titulo_vaga: busca_senioridade(titulo_vaga, junior_matches))\n",
    "df_vagas['senioridade_pleno'] = df_vagas['titulo_da_vaga_tratado'].apply(lambda titulo_vaga: busca_senioridade(titulo_vaga, pleno_matches))\n",
    "df_vagas['senioridade_senior'] = df_vagas['titulo_da_vaga_tratado'].apply(lambda titulo_vaga: busca_senioridade(titulo_vaga, senior_matches))\n",
    "\n",
    "# categorizando senioridades\n",
    "df_vagas['senioridade'] = df_vagas[['senioridade_junior', \n",
    "                                    'senioridade_pleno', \n",
    "                                    'senioridade_senior']].apply(lambda x:  'Pleno/Sênior' if (x['senioridade_pleno']) and (x['senioridade_senior']) else\n",
    "                                                                            'Júnior/Pleno' if (x['senioridade_junior']) and (x['senioridade_pleno']) else\n",
    "                                                                            'Júnior' if x['senioridade_junior'] else \n",
    "                                                                            'Pleno' if x['senioridade_pleno'] else\n",
    "                                                                            'Sênior' if x['senioridade_senior'] else\n",
    "                                                                            'Não informado'\n",
    "                                                                            , axis = 1)"
   ]
  },
  {
   "cell_type": "code",
   "execution_count": 97,
   "metadata": {},
   "outputs": [
    {
     "data": {
      "text/plain": [
       "array(['pessoa analista de dados - geoprocessamento | manufacturing.',\n",
       "       'analista de dados (remoto)', 'analista de dados | salvador',\n",
       "       'analista de dados (tableau)', 'analista de dados | mercado ',\n",
       "       'analista de dados de transporte', 'analista de dados',\n",
       "       'analista de privacidade de dados (lgpd) - presencial brasilia',\n",
       "       'analista de customer service - dados | ribas do rio pardo/ms',\n",
       "       'logistica: analista de dados', 'analista de dados - jundiai/sp ',\n",
       "       'analista de dados comerciais', 'analista dados ti',\n",
       "       'analista de dados comerciais - direcionado a vendas',\n",
       "       'analista contabil - analista de dados ',\n",
       "       'analista de marketing - crm (dados)',\n",
       "       'cas | analista de dados - foco em associacao e contas',\n",
       "       'analista de dados | cresol confederacao',\n",
       "       'pessoa analista de dados (cs/cx)', 'analista de dados csc',\n",
       "       'analista de dados | data analyst',\n",
       "       'analista de dados ( pricing) ',\n",
       "       'pessoa analista de banco de dados oracle', 'analista de dados ',\n",
       "       'analista de dados e politicas publicas - sp ou mg',\n",
       "       'analista de dados bi - corporativo',\n",
       "       'analista de produtos de dados',\n",
       "       'programador / analista de dados - natal/rn',\n",
       "       'analista de processos (dados) | guarulhos / sp',\n",
       "       'analista de mercado (dados comecial)',\n",
       "       'analista financeiro - analise de dados',\n",
       "       'analista de ti (plataforma de dados)',\n",
       "       'analista de dados | sao paulo ', '14308-analista de dados bi',\n",
       "       'analista de dados gerenciais',\n",
       "       'analista de dados | v4 company nunes & co',\n",
       "       'analista de dados - etl/power center - df',\n",
       "       'analista de dados (engenheiro)', 'analista de dados - macae/rj',\n",
       "       'analista de dados - power bi', 'analista de banco de dados',\n",
       "       'analista banco de dados ',\n",
       "       'analista de banco de dados | dbdevops ',\n",
       "       '0726 -  analista de dados -  sede administrativa, palotina/pr ',\n",
       "       'banco de talentos - analista de dados',\n",
       "       'banco de talentos | analista de dados freelancers ',\n",
       "       'analista de dados - home office   ',\n",
       "       'banco de talentos - analista de dados/ analista de bi ou cientista de dados'],\n",
       "      dtype=object)"
      ]
     },
     "execution_count": 97,
     "metadata": {},
     "output_type": "execute_result"
    }
   ],
   "source": [
    "df_vagas.loc[df_vagas['senioridade'] == 'Não informado', 'titulo_da_vaga_tratado'].unique()"
   ]
  },
  {
   "cell_type": "markdown",
   "metadata": {},
   "source": [
    "# Save Dataframe"
   ]
  },
  {
   "cell_type": "code",
   "execution_count": 103,
   "metadata": {},
   "outputs": [],
   "source": [
    "columns_selected = [\n",
    "'site_da_vaga',\n",
    " 'link',\n",
    " 'data_publicacao',\n",
    " 'data_coleta',\n",
    " 'titulo_da_vaga',\n",
    " 'senioridade',\n",
    " 'local',\n",
    " 'modalidade',\n",
    " 'contrato',\n",
    " 'acessibilidade',\n",
    " 'nome_empresa',\n",
    " 'codigo_vaga',\n",
    " 'descricao'\n",
    "]"
   ]
  },
  {
   "cell_type": "code",
   "execution_count": 104,
   "metadata": {},
   "outputs": [],
   "source": [
    "df_vagas[columns_selected].to_excel('vagas_clean.xlsx', index=False)"
   ]
  },
  {
   "cell_type": "code",
   "execution_count": null,
   "metadata": {},
   "outputs": [],
   "source": []
  }
 ],
 "metadata": {
  "kernelspec": {
   "display_name": "monitoramento-vagas-env",
   "language": "python",
   "name": "python3"
  },
  "language_info": {
   "codemirror_mode": {
    "name": "ipython",
    "version": 3
   },
   "file_extension": ".py",
   "mimetype": "text/x-python",
   "name": "python",
   "nbconvert_exporter": "python",
   "pygments_lexer": "ipython3",
   "version": "3.11.7"
  }
 },
 "nbformat": 4,
 "nbformat_minor": 2
}
